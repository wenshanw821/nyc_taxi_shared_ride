{
 "cells": [
  {
   "cell_type": "code",
   "execution_count": 1,
   "metadata": {
    "collapsed": true
   },
   "outputs": [],
   "source": [
    "import pandas as pd\n",
    "import numpy as np\n",
    "import os\n",
    "\n",
    "import matplotlib.pyplot as plt\n",
    "%matplotlib inline \n",
    "\n",
    "os.chdir(\"D:\\Dropbox\\Data-Analysis\\Via\\project\\data\")"
   ]
  },
  {
   "cell_type": "markdown",
   "metadata": {},
   "source": [
    "# Typical Weekday and Weekend"
   ]
  },
  {
   "cell_type": "markdown",
   "metadata": {},
   "source": [
    "## Load data "
   ]
  },
  {
   "cell_type": "code",
   "execution_count": 2,
   "metadata": {
    "collapsed": true
   },
   "outputs": [],
   "source": [
    "def load_data(filename):\n",
    "    df = pd.read_csv(filename)\n",
    "    df.drop('Unnamed: 0',axis = 1,inplace=True)\n",
    "    df['pickup_datetime'] = pd.to_datetime(df['pickup_datetime'])\n",
    "    df['minute'] = df['pickup_datetime'].apply(lambda x: x.minute)\n",
    "    return df"
   ]
  },
  {
   "cell_type": "code",
   "execution_count": 3,
   "metadata": {
    "collapsed": false
   },
   "outputs": [],
   "source": [
    "wed = load_data('green_wk15_wed_zone.csv')\n",
    "sat = load_data('green_wk15_sat_zone.csv')\n",
    "sun = load_data('green_wk15_sun_zone.csv')"
   ]
  },
  {
   "cell_type": "code",
   "execution_count": 31,
   "metadata": {
    "collapsed": false
   },
   "outputs": [],
   "source": [
    "frames = [wed,sat,sun]\n",
    "df = pd.concat(frames)\n",
    "df.to_csv('green_data_3days.csv')"
   ]
  },
  {
   "cell_type": "code",
   "execution_count": 4,
   "metadata": {
    "collapsed": false
   },
   "outputs": [
    {
     "data": {
      "text/plain": [
       "(48913, 13)"
      ]
     },
     "execution_count": 4,
     "metadata": {},
     "output_type": "execute_result"
    }
   ],
   "source": [
    "wed.shape"
   ]
  },
  {
   "cell_type": "code",
   "execution_count": 5,
   "metadata": {
    "collapsed": false
   },
   "outputs": [
    {
     "data": {
      "text/plain": [
       "(71318, 13)"
      ]
     },
     "execution_count": 5,
     "metadata": {},
     "output_type": "execute_result"
    }
   ],
   "source": [
    "sat.shape"
   ]
  },
  {
   "cell_type": "code",
   "execution_count": 6,
   "metadata": {
    "collapsed": false
   },
   "outputs": [
    {
     "data": {
      "text/plain": [
       "(59276, 13)"
      ]
     },
     "execution_count": 6,
     "metadata": {},
     "output_type": "execute_result"
    }
   ],
   "source": [
    "sun.shape"
   ]
  },
  {
   "cell_type": "markdown",
   "metadata": {},
   "source": [
    "EDA of trip distance and time with Tableau"
   ]
  },
  {
   "cell_type": "markdown",
   "metadata": {},
   "source": [
    "## Hourly trip number"
   ]
  },
  {
   "cell_type": "code",
   "execution_count": 9,
   "metadata": {
    "collapsed": true
   },
   "outputs": [],
   "source": [
    "def hourly_trip(df):\n",
    "    df_hour = df.groupby('hour',as_index=False).count()[['hour','pickup_datetime']]\n",
    "    df_hour.rename(columns = {'pickup_datetime':'trip number'}, inplace=True)\n",
    "    return df_hour"
   ]
  },
  {
   "cell_type": "code",
   "execution_count": 13,
   "metadata": {
    "collapsed": false
   },
   "outputs": [
    {
     "data": {
      "text/html": [
       "<div>\n",
       "<table border=\"1\" class=\"dataframe\">\n",
       "  <thead>\n",
       "    <tr style=\"text-align: right;\">\n",
       "      <th></th>\n",
       "      <th>hour</th>\n",
       "      <th>wed trip number</th>\n",
       "      <th>sat trip number</th>\n",
       "      <th>sun trip number</th>\n",
       "    </tr>\n",
       "  </thead>\n",
       "  <tbody>\n",
       "    <tr>\n",
       "      <th>0</th>\n",
       "      <td>0</td>\n",
       "      <td>1603</td>\n",
       "      <td>4333</td>\n",
       "      <td>4970</td>\n",
       "    </tr>\n",
       "    <tr>\n",
       "      <th>1</th>\n",
       "      <td>1</td>\n",
       "      <td>1035</td>\n",
       "      <td>3829</td>\n",
       "      <td>4530</td>\n",
       "    </tr>\n",
       "    <tr>\n",
       "      <th>2</th>\n",
       "      <td>2</td>\n",
       "      <td>663</td>\n",
       "      <td>3229</td>\n",
       "      <td>3835</td>\n",
       "    </tr>\n",
       "    <tr>\n",
       "      <th>3</th>\n",
       "      <td>3</td>\n",
       "      <td>416</td>\n",
       "      <td>2580</td>\n",
       "      <td>3092</td>\n",
       "    </tr>\n",
       "    <tr>\n",
       "      <th>4</th>\n",
       "      <td>4</td>\n",
       "      <td>375</td>\n",
       "      <td>1880</td>\n",
       "      <td>2223</td>\n",
       "    </tr>\n",
       "    <tr>\n",
       "      <th>5</th>\n",
       "      <td>5</td>\n",
       "      <td>335</td>\n",
       "      <td>836</td>\n",
       "      <td>1122</td>\n",
       "    </tr>\n",
       "    <tr>\n",
       "      <th>6</th>\n",
       "      <td>6</td>\n",
       "      <td>632</td>\n",
       "      <td>698</td>\n",
       "      <td>670</td>\n",
       "    </tr>\n",
       "    <tr>\n",
       "      <th>7</th>\n",
       "      <td>7</td>\n",
       "      <td>1340</td>\n",
       "      <td>841</td>\n",
       "      <td>662</td>\n",
       "    </tr>\n",
       "    <tr>\n",
       "      <th>8</th>\n",
       "      <td>8</td>\n",
       "      <td>2246</td>\n",
       "      <td>1225</td>\n",
       "      <td>891</td>\n",
       "    </tr>\n",
       "    <tr>\n",
       "      <th>9</th>\n",
       "      <td>9</td>\n",
       "      <td>2300</td>\n",
       "      <td>1718</td>\n",
       "      <td>1236</td>\n",
       "    </tr>\n",
       "    <tr>\n",
       "      <th>10</th>\n",
       "      <td>10</td>\n",
       "      <td>2056</td>\n",
       "      <td>2069</td>\n",
       "      <td>1549</td>\n",
       "    </tr>\n",
       "    <tr>\n",
       "      <th>11</th>\n",
       "      <td>11</td>\n",
       "      <td>1903</td>\n",
       "      <td>2239</td>\n",
       "      <td>1888</td>\n",
       "    </tr>\n",
       "    <tr>\n",
       "      <th>12</th>\n",
       "      <td>12</td>\n",
       "      <td>1925</td>\n",
       "      <td>2379</td>\n",
       "      <td>2046</td>\n",
       "    </tr>\n",
       "    <tr>\n",
       "      <th>13</th>\n",
       "      <td>13</td>\n",
       "      <td>1994</td>\n",
       "      <td>2500</td>\n",
       "      <td>2137</td>\n",
       "    </tr>\n",
       "    <tr>\n",
       "      <th>14</th>\n",
       "      <td>14</td>\n",
       "      <td>2229</td>\n",
       "      <td>2714</td>\n",
       "      <td>2455</td>\n",
       "    </tr>\n",
       "    <tr>\n",
       "      <th>15</th>\n",
       "      <td>15</td>\n",
       "      <td>2336</td>\n",
       "      <td>2973</td>\n",
       "      <td>2636</td>\n",
       "    </tr>\n",
       "    <tr>\n",
       "      <th>16</th>\n",
       "      <td>16</td>\n",
       "      <td>2706</td>\n",
       "      <td>3241</td>\n",
       "      <td>2838</td>\n",
       "    </tr>\n",
       "    <tr>\n",
       "      <th>17</th>\n",
       "      <td>17</td>\n",
       "      <td>3106</td>\n",
       "      <td>3608</td>\n",
       "      <td>2949</td>\n",
       "    </tr>\n",
       "    <tr>\n",
       "      <th>18</th>\n",
       "      <td>18</td>\n",
       "      <td>3418</td>\n",
       "      <td>4278</td>\n",
       "      <td>3137</td>\n",
       "    </tr>\n",
       "    <tr>\n",
       "      <th>19</th>\n",
       "      <td>19</td>\n",
       "      <td>3461</td>\n",
       "      <td>4564</td>\n",
       "      <td>3390</td>\n",
       "    </tr>\n",
       "    <tr>\n",
       "      <th>20</th>\n",
       "      <td>20</td>\n",
       "      <td>3461</td>\n",
       "      <td>4698</td>\n",
       "      <td>3251</td>\n",
       "    </tr>\n",
       "    <tr>\n",
       "      <th>21</th>\n",
       "      <td>21</td>\n",
       "      <td>3366</td>\n",
       "      <td>4682</td>\n",
       "      <td>2687</td>\n",
       "    </tr>\n",
       "    <tr>\n",
       "      <th>22</th>\n",
       "      <td>22</td>\n",
       "      <td>3191</td>\n",
       "      <td>5094</td>\n",
       "      <td>2666</td>\n",
       "    </tr>\n",
       "    <tr>\n",
       "      <th>23</th>\n",
       "      <td>23</td>\n",
       "      <td>2816</td>\n",
       "      <td>5110</td>\n",
       "      <td>2416</td>\n",
       "    </tr>\n",
       "  </tbody>\n",
       "</table>\n",
       "</div>"
      ],
      "text/plain": [
       "    hour  wed trip number  sat trip number  sun trip number\n",
       "0      0             1603             4333             4970\n",
       "1      1             1035             3829             4530\n",
       "2      2              663             3229             3835\n",
       "3      3              416             2580             3092\n",
       "4      4              375             1880             2223\n",
       "5      5              335              836             1122\n",
       "6      6              632              698              670\n",
       "7      7             1340              841              662\n",
       "8      8             2246             1225              891\n",
       "9      9             2300             1718             1236\n",
       "10    10             2056             2069             1549\n",
       "11    11             1903             2239             1888\n",
       "12    12             1925             2379             2046\n",
       "13    13             1994             2500             2137\n",
       "14    14             2229             2714             2455\n",
       "15    15             2336             2973             2636\n",
       "16    16             2706             3241             2838\n",
       "17    17             3106             3608             2949\n",
       "18    18             3418             4278             3137\n",
       "19    19             3461             4564             3390\n",
       "20    20             3461             4698             3251\n",
       "21    21             3366             4682             2687\n",
       "22    22             3191             5094             2666\n",
       "23    23             2816             5110             2416"
      ]
     },
     "execution_count": 13,
     "metadata": {},
     "output_type": "execute_result"
    }
   ],
   "source": [
    "wed_h = hourly_trip(wed)\n",
    "sat_h = hourly_trip(sat)\n",
    "sun_h = hourly_trip(sun)\n",
    "hour_comp = wed_h.merge(sat_h,on='hour')\n",
    "hour_comp = hour_comp.merge(sun_h,on='hour')\n",
    "hour_comp.rename(columns = {'trip number_x':'wed trip number','trip number_y':'sat trip number','trip number':'sun trip number'}, inplace=True)\n",
    "hour_comp"
   ]
  },
  {
   "cell_type": "code",
   "execution_count": 16,
   "metadata": {
    "collapsed": false
   },
   "outputs": [],
   "source": [
    "hour_comp.to_csv('green_hourly_trip_comp.csv')"
   ]
  },
  {
   "cell_type": "code",
   "execution_count": 14,
   "metadata": {
    "collapsed": false
   },
   "outputs": [
    {
     "data": {
      "text/plain": [
       "[<matplotlib.lines.Line2D at 0x9bc05c0>,\n",
       " <matplotlib.lines.Line2D at 0x9bc0748>,\n",
       " <matplotlib.lines.Line2D at 0x9bc0860>]"
      ]
     },
     "execution_count": 14,
     "metadata": {},
     "output_type": "execute_result"
    },
    {
     "data": {
      "image/png": "[encoded data removed]",
      "text/plain": [
       "<matplotlib.figure.Figure at 0x98cc588>"
      ]
     },
     "metadata": {},
     "output_type": "display_data"
    }
   ],
   "source": [
    "plt.plot(hour_comp[['wed trip number','sat trip number','sun trip number']])"
   ]
  },
  {
   "cell_type": "markdown",
   "metadata": {},
   "source": [
    "Weekday trip has a morning peak when people go to work, and decrease after 8am. Saturday trip increases throughout the day and reach peak at midnight. Weekend trip in early morning is higher than weekday, mostly because people have late night activies on Saturday and Friday. Weekend does not have the morning peak and people travel less than weekday in the morning. "
   ]
  },
  {
   "cell_type": "markdown",
   "metadata": {},
   "source": [
    "## Most common pickup zones"
   ]
  },
  {
   "cell_type": "markdown",
   "metadata": {},
   "source": [
    "Geo heatmap visualized with Tableau"
   ]
  },
  {
   "cell_type": "code",
   "execution_count": 17,
   "metadata": {
    "collapsed": false
   },
   "outputs": [],
   "source": [
    "def group_zone(df,col):\n",
    "    df_gp = df.groupby(col,as_index=False).count()[[col,'pickup_datetime']]\n",
    "    df_gp.sort_values('pickup_datetime',ascending=False,inplace=True)\n",
    "    df_gp.rename(columns = {'pickup_datetime':'trip number'}, inplace=True)\n",
    "    return df_gp"
   ]
  },
  {
   "cell_type": "code",
   "execution_count": 18,
   "metadata": {
    "collapsed": false
   },
   "outputs": [
    {
     "data": {
      "text/html": [
       "<div>\n",
       "<table border=\"1\" class=\"dataframe\">\n",
       "  <thead>\n",
       "    <tr style=\"text-align: right;\">\n",
       "      <th></th>\n",
       "      <th>pickup_zipcode</th>\n",
       "      <th>trip number</th>\n",
       "    </tr>\n",
       "  </thead>\n",
       "  <tbody>\n",
       "    <tr>\n",
       "      <th>55</th>\n",
       "      <td>11201</td>\n",
       "      <td>3640</td>\n",
       "    </tr>\n",
       "    <tr>\n",
       "      <th>5</th>\n",
       "      <td>10027</td>\n",
       "      <td>2947</td>\n",
       "    </tr>\n",
       "    <tr>\n",
       "      <th>6</th>\n",
       "      <td>10029</td>\n",
       "      <td>2904</td>\n",
       "    </tr>\n",
       "    <tr>\n",
       "      <th>12</th>\n",
       "      <td>10035</td>\n",
       "      <td>2322</td>\n",
       "    </tr>\n",
       "    <tr>\n",
       "      <th>111</th>\n",
       "      <td>11373</td>\n",
       "      <td>1957</td>\n",
       "    </tr>\n",
       "  </tbody>\n",
       "</table>\n",
       "</div>"
      ],
      "text/plain": [
       "     pickup_zipcode  trip number\n",
       "55            11201         3640\n",
       "5             10027         2947\n",
       "6             10029         2904\n",
       "12            10035         2322\n",
       "111           11373         1957"
      ]
     },
     "execution_count": 18,
     "metadata": {},
     "output_type": "execute_result"
    }
   ],
   "source": [
    "wed_pickup_zipcode = group_zone(wed,'pickup_zipcode')\n",
    "wed_pickup_zipcode.head()"
   ]
  },
  {
   "cell_type": "code",
   "execution_count": 19,
   "metadata": {
    "collapsed": false
   },
   "outputs": [
    {
     "data": {
      "text/html": [
       "<div>\n",
       "<table border=\"1\" class=\"dataframe\">\n",
       "  <thead>\n",
       "    <tr style=\"text-align: right;\">\n",
       "      <th></th>\n",
       "      <th>pickup_neighborhood</th>\n",
       "      <th>trip number</th>\n",
       "    </tr>\n",
       "  </thead>\n",
       "  <tbody>\n",
       "    <tr>\n",
       "      <th>81</th>\n",
       "      <td>Harlem</td>\n",
       "      <td>3782</td>\n",
       "    </tr>\n",
       "    <tr>\n",
       "      <th>181</th>\n",
       "      <td>Williamsburg</td>\n",
       "      <td>3112</td>\n",
       "    </tr>\n",
       "    <tr>\n",
       "      <th>51</th>\n",
       "      <td>East Harlem</td>\n",
       "      <td>2861</td>\n",
       "    </tr>\n",
       "    <tr>\n",
       "      <th>80</th>\n",
       "      <td>Hamilton Heights</td>\n",
       "      <td>2312</td>\n",
       "    </tr>\n",
       "    <tr>\n",
       "      <th>89</th>\n",
       "      <td>Jackson Heights</td>\n",
       "      <td>2099</td>\n",
       "    </tr>\n",
       "  </tbody>\n",
       "</table>\n",
       "</div>"
      ],
      "text/plain": [
       "    pickup_neighborhood  trip number\n",
       "81               Harlem         3782\n",
       "181        Williamsburg         3112\n",
       "51          East Harlem         2861\n",
       "80     Hamilton Heights         2312\n",
       "89      Jackson Heights         2099"
      ]
     },
     "execution_count": 19,
     "metadata": {},
     "output_type": "execute_result"
    }
   ],
   "source": [
    "wed_pickup_neighborhood = group_zone(wed,'pickup_neighborhood')\n",
    "wed_pickup_neighborhood.head()"
   ]
  },
  {
   "cell_type": "code",
   "execution_count": 20,
   "metadata": {
    "collapsed": false
   },
   "outputs": [
    {
     "data": {
      "text/html": [
       "<div>\n",
       "<table border=\"1\" class=\"dataframe\">\n",
       "  <thead>\n",
       "    <tr style=\"text-align: right;\">\n",
       "      <th></th>\n",
       "      <th>pickup_zipcode</th>\n",
       "      <th>trip number</th>\n",
       "    </tr>\n",
       "  </thead>\n",
       "  <tbody>\n",
       "    <tr>\n",
       "      <th>70</th>\n",
       "      <td>11211</td>\n",
       "      <td>4320</td>\n",
       "    </tr>\n",
       "    <tr>\n",
       "      <th>61</th>\n",
       "      <td>11201</td>\n",
       "      <td>3990</td>\n",
       "    </tr>\n",
       "    <tr>\n",
       "      <th>8</th>\n",
       "      <td>10027</td>\n",
       "      <td>3396</td>\n",
       "    </tr>\n",
       "    <tr>\n",
       "      <th>98</th>\n",
       "      <td>11249</td>\n",
       "      <td>3370</td>\n",
       "    </tr>\n",
       "    <tr>\n",
       "      <th>116</th>\n",
       "      <td>11373</td>\n",
       "      <td>2824</td>\n",
       "    </tr>\n",
       "  </tbody>\n",
       "</table>\n",
       "</div>"
      ],
      "text/plain": [
       "     pickup_zipcode  trip number\n",
       "70            11211         4320\n",
       "61            11201         3990\n",
       "8             10027         3396\n",
       "98            11249         3370\n",
       "116           11373         2824"
      ]
     },
     "execution_count": 20,
     "metadata": {},
     "output_type": "execute_result"
    }
   ],
   "source": [
    "sat_pickup_zipcode = group_zone(sat,'pickup_zipcode')\n",
    "sat_pickup_zipcode.head()"
   ]
  },
  {
   "cell_type": "code",
   "execution_count": 21,
   "metadata": {
    "collapsed": false
   },
   "outputs": [
    {
     "data": {
      "text/html": [
       "<div>\n",
       "<table border=\"1\" class=\"dataframe\">\n",
       "  <thead>\n",
       "    <tr style=\"text-align: right;\">\n",
       "      <th></th>\n",
       "      <th>pickup_neighborhood</th>\n",
       "      <th>trip number</th>\n",
       "    </tr>\n",
       "  </thead>\n",
       "  <tbody>\n",
       "    <tr>\n",
       "      <th>198</th>\n",
       "      <td>Williamsburg</td>\n",
       "      <td>7191</td>\n",
       "    </tr>\n",
       "    <tr>\n",
       "      <th>89</th>\n",
       "      <td>Harlem</td>\n",
       "      <td>4714</td>\n",
       "    </tr>\n",
       "    <tr>\n",
       "      <th>97</th>\n",
       "      <td>Jackson Heights</td>\n",
       "      <td>3955</td>\n",
       "    </tr>\n",
       "    <tr>\n",
       "      <th>88</th>\n",
       "      <td>Hamilton Heights</td>\n",
       "      <td>3241</td>\n",
       "    </tr>\n",
       "    <tr>\n",
       "      <th>179</th>\n",
       "      <td>Sunnyside Gardens</td>\n",
       "      <td>3121</td>\n",
       "    </tr>\n",
       "  </tbody>\n",
       "</table>\n",
       "</div>"
      ],
      "text/plain": [
       "    pickup_neighborhood  trip number\n",
       "198        Williamsburg         7191\n",
       "89               Harlem         4714\n",
       "97      Jackson Heights         3955\n",
       "88     Hamilton Heights         3241\n",
       "179   Sunnyside Gardens         3121"
      ]
     },
     "execution_count": 21,
     "metadata": {},
     "output_type": "execute_result"
    }
   ],
   "source": [
    "sat_pickup_neighborhood = group_zone(sat,'pickup_neighborhood')\n",
    "sat_pickup_neighborhood.head()"
   ]
  },
  {
   "cell_type": "code",
   "execution_count": 22,
   "metadata": {
    "collapsed": false
   },
   "outputs": [
    {
     "data": {
      "text/html": [
       "<div>\n",
       "<table border=\"1\" class=\"dataframe\">\n",
       "  <thead>\n",
       "    <tr style=\"text-align: right;\">\n",
       "      <th></th>\n",
       "      <th>pickup_zipcode</th>\n",
       "      <th>trip number</th>\n",
       "    </tr>\n",
       "  </thead>\n",
       "  <tbody>\n",
       "    <tr>\n",
       "      <th>70</th>\n",
       "      <td>11211</td>\n",
       "      <td>3692</td>\n",
       "    </tr>\n",
       "    <tr>\n",
       "      <th>61</th>\n",
       "      <td>11201</td>\n",
       "      <td>3155</td>\n",
       "    </tr>\n",
       "    <tr>\n",
       "      <th>98</th>\n",
       "      <td>11249</td>\n",
       "      <td>2836</td>\n",
       "    </tr>\n",
       "    <tr>\n",
       "      <th>116</th>\n",
       "      <td>11373</td>\n",
       "      <td>2510</td>\n",
       "    </tr>\n",
       "    <tr>\n",
       "      <th>7</th>\n",
       "      <td>10027</td>\n",
       "      <td>2414</td>\n",
       "    </tr>\n",
       "  </tbody>\n",
       "</table>\n",
       "</div>"
      ],
      "text/plain": [
       "     pickup_zipcode  trip number\n",
       "70            11211         3692\n",
       "61            11201         3155\n",
       "98            11249         2836\n",
       "116           11373         2510\n",
       "7             10027         2414"
      ]
     },
     "execution_count": 22,
     "metadata": {},
     "output_type": "execute_result"
    }
   ],
   "source": [
    "sun_pickup_zipcode = group_zone(sun,'pickup_zipcode')\n",
    "sun_pickup_zipcode.head()"
   ]
  },
  {
   "cell_type": "code",
   "execution_count": 23,
   "metadata": {
    "collapsed": false
   },
   "outputs": [
    {
     "data": {
      "text/html": [
       "<div>\n",
       "<table border=\"1\" class=\"dataframe\">\n",
       "  <thead>\n",
       "    <tr style=\"text-align: right;\">\n",
       "      <th></th>\n",
       "      <th>pickup_neighborhood</th>\n",
       "      <th>trip number</th>\n",
       "    </tr>\n",
       "  </thead>\n",
       "  <tbody>\n",
       "    <tr>\n",
       "      <th>200</th>\n",
       "      <td>Williamsburg</td>\n",
       "      <td>6056</td>\n",
       "    </tr>\n",
       "    <tr>\n",
       "      <th>90</th>\n",
       "      <td>Harlem</td>\n",
       "      <td>3934</td>\n",
       "    </tr>\n",
       "    <tr>\n",
       "      <th>98</th>\n",
       "      <td>Jackson Heights</td>\n",
       "      <td>3445</td>\n",
       "    </tr>\n",
       "    <tr>\n",
       "      <th>183</th>\n",
       "      <td>Sunnyside Gardens</td>\n",
       "      <td>2743</td>\n",
       "    </tr>\n",
       "    <tr>\n",
       "      <th>89</th>\n",
       "      <td>Hamilton Heights</td>\n",
       "      <td>2574</td>\n",
       "    </tr>\n",
       "  </tbody>\n",
       "</table>\n",
       "</div>"
      ],
      "text/plain": [
       "    pickup_neighborhood  trip number\n",
       "200        Williamsburg         6056\n",
       "90               Harlem         3934\n",
       "98      Jackson Heights         3445\n",
       "183   Sunnyside Gardens         2743\n",
       "89     Hamilton Heights         2574"
      ]
     },
     "execution_count": 23,
     "metadata": {},
     "output_type": "execute_result"
    }
   ],
   "source": [
    "sun_pickup_neighborhood = group_zone(sun,'pickup_neighborhood')\n",
    "sun_pickup_neighborhood.head()"
   ]
  },
  {
   "cell_type": "markdown",
   "metadata": {},
   "source": [
    "## Most common dropoff zones"
   ]
  },
  {
   "cell_type": "code",
   "execution_count": 24,
   "metadata": {
    "collapsed": false
   },
   "outputs": [
    {
     "data": {
      "text/html": [
       "<div>\n",
       "<table border=\"1\" class=\"dataframe\">\n",
       "  <thead>\n",
       "    <tr style=\"text-align: right;\">\n",
       "      <th></th>\n",
       "      <th>dropoff_zipcode</th>\n",
       "      <th>trip number</th>\n",
       "    </tr>\n",
       "  </thead>\n",
       "  <tbody>\n",
       "    <tr>\n",
       "      <th>24</th>\n",
       "      <td>10027</td>\n",
       "      <td>1708</td>\n",
       "    </tr>\n",
       "    <tr>\n",
       "      <th>95</th>\n",
       "      <td>11201</td>\n",
       "      <td>1567</td>\n",
       "    </tr>\n",
       "    <tr>\n",
       "      <th>32</th>\n",
       "      <td>10035</td>\n",
       "      <td>1285</td>\n",
       "    </tr>\n",
       "    <tr>\n",
       "      <th>22</th>\n",
       "      <td>10025</td>\n",
       "      <td>1284</td>\n",
       "    </tr>\n",
       "    <tr>\n",
       "      <th>26</th>\n",
       "      <td>10029</td>\n",
       "      <td>1249</td>\n",
       "    </tr>\n",
       "  </tbody>\n",
       "</table>\n",
       "</div>"
      ],
      "text/plain": [
       "    dropoff_zipcode  trip number\n",
       "24            10027         1708\n",
       "95            11201         1567\n",
       "32            10035         1285\n",
       "22            10025         1284\n",
       "26            10029         1249"
      ]
     },
     "execution_count": 24,
     "metadata": {},
     "output_type": "execute_result"
    }
   ],
   "source": [
    "wed_dropoff_zipcode = group_zone(wed,'dropoff_zipcode')\n",
    "wed_dropoff_zipcode.head()"
   ]
  },
  {
   "cell_type": "code",
   "execution_count": 25,
   "metadata": {
    "collapsed": false
   },
   "outputs": [
    {
     "data": {
      "text/html": [
       "<div>\n",
       "<table border=\"1\" class=\"dataframe\">\n",
       "  <thead>\n",
       "    <tr style=\"text-align: right;\">\n",
       "      <th></th>\n",
       "      <th>dropoff_neighborhood</th>\n",
       "      <th>trip number</th>\n",
       "    </tr>\n",
       "  </thead>\n",
       "  <tbody>\n",
       "    <tr>\n",
       "      <th>38</th>\n",
       "      <td>Bronx</td>\n",
       "      <td>2639</td>\n",
       "    </tr>\n",
       "    <tr>\n",
       "      <th>125</th>\n",
       "      <td>Harlem</td>\n",
       "      <td>2441</td>\n",
       "    </tr>\n",
       "    <tr>\n",
       "      <th>260</th>\n",
       "      <td>Upper West Side</td>\n",
       "      <td>1962</td>\n",
       "    </tr>\n",
       "    <tr>\n",
       "      <th>124</th>\n",
       "      <td>Hamilton Heights</td>\n",
       "      <td>1836</td>\n",
       "    </tr>\n",
       "    <tr>\n",
       "      <th>276</th>\n",
       "      <td>Williamsburg</td>\n",
       "      <td>1734</td>\n",
       "    </tr>\n",
       "  </tbody>\n",
       "</table>\n",
       "</div>"
      ],
      "text/plain": [
       "    dropoff_neighborhood  trip number\n",
       "38                 Bronx         2639\n",
       "125               Harlem         2441\n",
       "260      Upper West Side         1962\n",
       "124     Hamilton Heights         1836\n",
       "276         Williamsburg         1734"
      ]
     },
     "execution_count": 25,
     "metadata": {},
     "output_type": "execute_result"
    }
   ],
   "source": [
    "wed_dropoff_neighborhood = group_zone(wed,'dropoff_neighborhood')\n",
    "wed_dropoff_neighborhood.head() "
   ]
  },
  {
   "cell_type": "code",
   "execution_count": 26,
   "metadata": {
    "collapsed": false
   },
   "outputs": [
    {
     "data": {
      "text/html": [
       "<div>\n",
       "<table border=\"1\" class=\"dataframe\">\n",
       "  <thead>\n",
       "    <tr style=\"text-align: right;\">\n",
       "      <th></th>\n",
       "      <th>dropoff_zipcode</th>\n",
       "      <th>trip number</th>\n",
       "    </tr>\n",
       "  </thead>\n",
       "  <tbody>\n",
       "    <tr>\n",
       "      <th>108</th>\n",
       "      <td>11211</td>\n",
       "      <td>2346</td>\n",
       "    </tr>\n",
       "    <tr>\n",
       "      <th>153</th>\n",
       "      <td>11368</td>\n",
       "      <td>1965</td>\n",
       "    </tr>\n",
       "    <tr>\n",
       "      <th>99</th>\n",
       "      <td>11201</td>\n",
       "      <td>1948</td>\n",
       "    </tr>\n",
       "    <tr>\n",
       "      <th>24</th>\n",
       "      <td>10027</td>\n",
       "      <td>1885</td>\n",
       "    </tr>\n",
       "    <tr>\n",
       "      <th>161</th>\n",
       "      <td>11377</td>\n",
       "      <td>1835</td>\n",
       "    </tr>\n",
       "  </tbody>\n",
       "</table>\n",
       "</div>"
      ],
      "text/plain": [
       "     dropoff_zipcode  trip number\n",
       "108            11211         2346\n",
       "153            11368         1965\n",
       "99             11201         1948\n",
       "24             10027         1885\n",
       "161            11377         1835"
      ]
     },
     "execution_count": 26,
     "metadata": {},
     "output_type": "execute_result"
    }
   ],
   "source": [
    "sat_dropoff_zipcode = group_zone(sat,'dropoff_zipcode')\n",
    "sat_dropoff_zipcode.head()"
   ]
  },
  {
   "cell_type": "code",
   "execution_count": 27,
   "metadata": {
    "collapsed": false
   },
   "outputs": [
    {
     "data": {
      "text/html": [
       "<div>\n",
       "<table border=\"1\" class=\"dataframe\">\n",
       "  <thead>\n",
       "    <tr style=\"text-align: right;\">\n",
       "      <th></th>\n",
       "      <th>dropoff_neighborhood</th>\n",
       "      <th>trip number</th>\n",
       "    </tr>\n",
       "  </thead>\n",
       "  <tbody>\n",
       "    <tr>\n",
       "      <th>293</th>\n",
       "      <td>Williamsburg</td>\n",
       "      <td>3919</td>\n",
       "    </tr>\n",
       "    <tr>\n",
       "      <th>38</th>\n",
       "      <td>Bronx</td>\n",
       "      <td>3370</td>\n",
       "    </tr>\n",
       "    <tr>\n",
       "      <th>128</th>\n",
       "      <td>Harlem</td>\n",
       "      <td>2845</td>\n",
       "    </tr>\n",
       "    <tr>\n",
       "      <th>127</th>\n",
       "      <td>Hamilton Heights</td>\n",
       "      <td>2540</td>\n",
       "    </tr>\n",
       "    <tr>\n",
       "      <th>140</th>\n",
       "      <td>Jackson Heights</td>\n",
       "      <td>2340</td>\n",
       "    </tr>\n",
       "  </tbody>\n",
       "</table>\n",
       "</div>"
      ],
      "text/plain": [
       "    dropoff_neighborhood  trip number\n",
       "293         Williamsburg         3919\n",
       "38                 Bronx         3370\n",
       "128               Harlem         2845\n",
       "127     Hamilton Heights         2540\n",
       "140      Jackson Heights         2340"
      ]
     },
     "execution_count": 27,
     "metadata": {},
     "output_type": "execute_result"
    }
   ],
   "source": [
    "sat_dropoff_neighborhood = group_zone(sat,'dropoff_neighborhood')\n",
    "sat_dropoff_neighborhood.head() "
   ]
  },
  {
   "cell_type": "code",
   "execution_count": 28,
   "metadata": {
    "collapsed": false
   },
   "outputs": [
    {
     "data": {
      "text/html": [
       "<div>\n",
       "<table border=\"1\" class=\"dataframe\">\n",
       "  <thead>\n",
       "    <tr style=\"text-align: right;\">\n",
       "      <th></th>\n",
       "      <th>dropoff_zipcode</th>\n",
       "      <th>trip number</th>\n",
       "    </tr>\n",
       "  </thead>\n",
       "  <tbody>\n",
       "    <tr>\n",
       "      <th>153</th>\n",
       "      <td>11368</td>\n",
       "      <td>1840</td>\n",
       "    </tr>\n",
       "    <tr>\n",
       "      <th>108</th>\n",
       "      <td>11211</td>\n",
       "      <td>1791</td>\n",
       "    </tr>\n",
       "    <tr>\n",
       "      <th>99</th>\n",
       "      <td>11201</td>\n",
       "      <td>1706</td>\n",
       "    </tr>\n",
       "    <tr>\n",
       "      <th>161</th>\n",
       "      <td>11377</td>\n",
       "      <td>1670</td>\n",
       "    </tr>\n",
       "    <tr>\n",
       "      <th>158</th>\n",
       "      <td>11373</td>\n",
       "      <td>1618</td>\n",
       "    </tr>\n",
       "  </tbody>\n",
       "</table>\n",
       "</div>"
      ],
      "text/plain": [
       "     dropoff_zipcode  trip number\n",
       "153            11368         1840\n",
       "108            11211         1791\n",
       "99             11201         1706\n",
       "161            11377         1670\n",
       "158            11373         1618"
      ]
     },
     "execution_count": 28,
     "metadata": {},
     "output_type": "execute_result"
    }
   ],
   "source": [
    "sun_dropoff_zipcode = group_zone(sun,'dropoff_zipcode')\n",
    "sun_dropoff_zipcode.head()"
   ]
  },
  {
   "cell_type": "code",
   "execution_count": 29,
   "metadata": {
    "collapsed": false
   },
   "outputs": [
    {
     "data": {
      "text/html": [
       "<div>\n",
       "<table border=\"1\" class=\"dataframe\">\n",
       "  <thead>\n",
       "    <tr style=\"text-align: right;\">\n",
       "      <th></th>\n",
       "      <th>dropoff_neighborhood</th>\n",
       "      <th>trip number</th>\n",
       "    </tr>\n",
       "  </thead>\n",
       "  <tbody>\n",
       "    <tr>\n",
       "      <th>289</th>\n",
       "      <td>Williamsburg</td>\n",
       "      <td>2959</td>\n",
       "    </tr>\n",
       "    <tr>\n",
       "      <th>35</th>\n",
       "      <td>Bronx</td>\n",
       "      <td>2686</td>\n",
       "    </tr>\n",
       "    <tr>\n",
       "      <th>135</th>\n",
       "      <td>Jackson Heights</td>\n",
       "      <td>2087</td>\n",
       "    </tr>\n",
       "    <tr>\n",
       "      <th>123</th>\n",
       "      <td>Harlem</td>\n",
       "      <td>2070</td>\n",
       "    </tr>\n",
       "    <tr>\n",
       "      <th>122</th>\n",
       "      <td>Hamilton Heights</td>\n",
       "      <td>1975</td>\n",
       "    </tr>\n",
       "  </tbody>\n",
       "</table>\n",
       "</div>"
      ],
      "text/plain": [
       "    dropoff_neighborhood  trip number\n",
       "289         Williamsburg         2959\n",
       "35                 Bronx         2686\n",
       "135      Jackson Heights         2087\n",
       "123               Harlem         2070\n",
       "122     Hamilton Heights         1975"
      ]
     },
     "execution_count": 29,
     "metadata": {},
     "output_type": "execute_result"
    }
   ],
   "source": [
    "sun_dropoff_neighborhood = group_zone(sun,'dropoff_neighborhood')\n",
    "sun_dropoff_neighborhood.head() "
   ]
  },
  {
   "cell_type": "markdown",
   "metadata": {},
   "source": [
    "## Most common routes"
   ]
  },
  {
   "cell_type": "code",
   "execution_count": 32,
   "metadata": {
    "collapsed": false
   },
   "outputs": [
    {
     "data": {
      "text/html": [
       "<div>\n",
       "<table border=\"1\" class=\"dataframe\">\n",
       "  <thead>\n",
       "    <tr style=\"text-align: right;\">\n",
       "      <th></th>\n",
       "      <th>pickup_neighborhood</th>\n",
       "      <th>dropoff_neighborhood</th>\n",
       "      <th>trip number</th>\n",
       "    </tr>\n",
       "  </thead>\n",
       "  <tbody>\n",
       "    <tr>\n",
       "      <th>534</th>\n",
       "      <td>Bronx</td>\n",
       "      <td>Bronx</td>\n",
       "      <td>1404</td>\n",
       "    </tr>\n",
       "    <tr>\n",
       "      <th>2479</th>\n",
       "      <td>Harlem</td>\n",
       "      <td>Harlem</td>\n",
       "      <td>840</td>\n",
       "    </tr>\n",
       "    <tr>\n",
       "      <th>4336</th>\n",
       "      <td>Williamsburg</td>\n",
       "      <td>Williamsburg</td>\n",
       "      <td>725</td>\n",
       "    </tr>\n",
       "    <tr>\n",
       "      <th>4271</th>\n",
       "      <td>Williamsburg</td>\n",
       "      <td>Greenpoint</td>\n",
       "      <td>566</td>\n",
       "    </tr>\n",
       "    <tr>\n",
       "      <th>2672</th>\n",
       "      <td>Jackson Heights</td>\n",
       "      <td>Jackson Heights</td>\n",
       "      <td>540</td>\n",
       "    </tr>\n",
       "  </tbody>\n",
       "</table>\n",
       "</div>"
      ],
      "text/plain": [
       "     pickup_neighborhood dropoff_neighborhood  trip number\n",
       "534                Bronx                Bronx         1404\n",
       "2479              Harlem               Harlem          840\n",
       "4336        Williamsburg         Williamsburg          725\n",
       "4271        Williamsburg           Greenpoint          566\n",
       "2672     Jackson Heights      Jackson Heights          540"
      ]
     },
     "execution_count": 32,
     "metadata": {},
     "output_type": "execute_result"
    }
   ],
   "source": [
    "wed_route_neightborhood = wed.groupby(['pickup_neighborhood','dropoff_neighborhood'],as_index=False).count()[['pickup_neighborhood','dropoff_neighborhood','pickup_datetime']]\n",
    "wed_route_neightborhood.sort_values('pickup_datetime',ascending=False,inplace=True)\n",
    "wed_route_neightborhood.rename(columns = {'pickup_datetime':'trip number'}, inplace=True)\n",
    "wed_route_neightborhood.head()"
   ]
  },
  {
   "cell_type": "code",
   "execution_count": 33,
   "metadata": {
    "collapsed": false
   },
   "outputs": [
    {
     "data": {
      "text/html": [
       "<div>\n",
       "<table border=\"1\" class=\"dataframe\">\n",
       "  <thead>\n",
       "    <tr style=\"text-align: right;\">\n",
       "      <th></th>\n",
       "      <th>pickup_neighborhood</th>\n",
       "      <th>dropoff_neighborhood</th>\n",
       "      <th>trip number</th>\n",
       "    </tr>\n",
       "  </thead>\n",
       "  <tbody>\n",
       "    <tr>\n",
       "      <th>570</th>\n",
       "      <td>Bronx</td>\n",
       "      <td>Bronx</td>\n",
       "      <td>1695</td>\n",
       "    </tr>\n",
       "    <tr>\n",
       "      <th>5315</th>\n",
       "      <td>Williamsburg</td>\n",
       "      <td>Williamsburg</td>\n",
       "      <td>1482</td>\n",
       "    </tr>\n",
       "    <tr>\n",
       "      <th>5231</th>\n",
       "      <td>Williamsburg</td>\n",
       "      <td>Greenpoint</td>\n",
       "      <td>940</td>\n",
       "    </tr>\n",
       "    <tr>\n",
       "      <th>2939</th>\n",
       "      <td>Harlem</td>\n",
       "      <td>Harlem</td>\n",
       "      <td>933</td>\n",
       "    </tr>\n",
       "    <tr>\n",
       "      <th>3223</th>\n",
       "      <td>Jackson Heights</td>\n",
       "      <td>Jackson Heights</td>\n",
       "      <td>843</td>\n",
       "    </tr>\n",
       "  </tbody>\n",
       "</table>\n",
       "</div>"
      ],
      "text/plain": [
       "     pickup_neighborhood dropoff_neighborhood  trip number\n",
       "570                Bronx                Bronx         1695\n",
       "5315        Williamsburg         Williamsburg         1482\n",
       "5231        Williamsburg           Greenpoint          940\n",
       "2939              Harlem               Harlem          933\n",
       "3223     Jackson Heights      Jackson Heights          843"
      ]
     },
     "execution_count": 33,
     "metadata": {},
     "output_type": "execute_result"
    }
   ],
   "source": [
    "sat_route_neightborhood = sat.groupby(['pickup_neighborhood','dropoff_neighborhood'],as_index=False).count()[['pickup_neighborhood','dropoff_neighborhood','pickup_datetime']]\n",
    "sat_route_neightborhood.sort_values('pickup_datetime',ascending=False,inplace=True)\n",
    "sat_route_neightborhood.rename(columns = {'pickup_datetime':'trip number'}, inplace=True)\n",
    "sat_route_neightborhood.head()"
   ]
  },
  {
   "cell_type": "code",
   "execution_count": 36,
   "metadata": {
    "collapsed": false
   },
   "outputs": [
    {
     "data": {
      "text/html": [
       "<div>\n",
       "<table border=\"1\" class=\"dataframe\">\n",
       "  <thead>\n",
       "    <tr style=\"text-align: right;\">\n",
       "      <th></th>\n",
       "      <th>pickup_neighborhood</th>\n",
       "      <th>dropoff_neighborhood</th>\n",
       "      <th>trip number</th>\n",
       "    </tr>\n",
       "  </thead>\n",
       "  <tbody>\n",
       "    <tr>\n",
       "      <th>534</th>\n",
       "      <td>Bronx</td>\n",
       "      <td>Bronx</td>\n",
       "      <td>1315</td>\n",
       "    </tr>\n",
       "    <tr>\n",
       "      <th>5033</th>\n",
       "      <td>Williamsburg</td>\n",
       "      <td>Williamsburg</td>\n",
       "      <td>1110</td>\n",
       "    </tr>\n",
       "    <tr>\n",
       "      <th>4946</th>\n",
       "      <td>Williamsburg</td>\n",
       "      <td>Greenpoint</td>\n",
       "      <td>755</td>\n",
       "    </tr>\n",
       "    <tr>\n",
       "      <th>3057</th>\n",
       "      <td>Jackson Heights</td>\n",
       "      <td>Jackson Heights</td>\n",
       "      <td>718</td>\n",
       "    </tr>\n",
       "    <tr>\n",
       "      <th>2816</th>\n",
       "      <td>Harlem</td>\n",
       "      <td>Harlem</td>\n",
       "      <td>708</td>\n",
       "    </tr>\n",
       "  </tbody>\n",
       "</table>\n",
       "</div>"
      ],
      "text/plain": [
       "     pickup_neighborhood dropoff_neighborhood  trip number\n",
       "534                Bronx                Bronx         1315\n",
       "5033        Williamsburg         Williamsburg         1110\n",
       "4946        Williamsburg           Greenpoint          755\n",
       "3057     Jackson Heights      Jackson Heights          718\n",
       "2816              Harlem               Harlem          708"
      ]
     },
     "execution_count": 36,
     "metadata": {},
     "output_type": "execute_result"
    }
   ],
   "source": [
    "sun_route_neightborhood = sun.groupby(['pickup_neighborhood','dropoff_neighborhood'],as_index=False).count()[['pickup_neighborhood','dropoff_neighborhood','pickup_datetime']]\n",
    "sun_route_neightborhood.sort_values('pickup_datetime',ascending=False,inplace=True)\n",
    "sun_route_neightborhood.rename(columns = {'pickup_datetime':'trip number'}, inplace=True)\n",
    "sun_route_neightborhood.head()"
   ]
  },
  {
   "cell_type": "code",
   "execution_count": 34,
   "metadata": {
    "collapsed": false
   },
   "outputs": [
    {
     "data": {
      "text/html": [
       "<div>\n",
       "<table border=\"1\" class=\"dataframe\">\n",
       "  <thead>\n",
       "    <tr style=\"text-align: right;\">\n",
       "      <th></th>\n",
       "      <th>pickup_zipcode</th>\n",
       "      <th>dropoff_zipcode</th>\n",
       "      <th>trip number</th>\n",
       "    </tr>\n",
       "  </thead>\n",
       "  <tbody>\n",
       "    <tr>\n",
       "      <th>2222</th>\n",
       "      <td>11201</td>\n",
       "      <td>11201</td>\n",
       "      <td>550</td>\n",
       "    </tr>\n",
       "    <tr>\n",
       "      <th>170</th>\n",
       "      <td>10027</td>\n",
       "      <td>10027</td>\n",
       "      <td>420</td>\n",
       "    </tr>\n",
       "    <tr>\n",
       "      <th>264</th>\n",
       "      <td>10029</td>\n",
       "      <td>10029</td>\n",
       "      <td>404</td>\n",
       "    </tr>\n",
       "    <tr>\n",
       "      <th>4118</th>\n",
       "      <td>11373</td>\n",
       "      <td>11373</td>\n",
       "      <td>379</td>\n",
       "    </tr>\n",
       "    <tr>\n",
       "      <th>270</th>\n",
       "      <td>10029</td>\n",
       "      <td>10035</td>\n",
       "      <td>352</td>\n",
       "    </tr>\n",
       "  </tbody>\n",
       "</table>\n",
       "</div>"
      ],
      "text/plain": [
       "      pickup_zipcode  dropoff_zipcode  trip number\n",
       "2222           11201            11201          550\n",
       "170            10027            10027          420\n",
       "264            10029            10029          404\n",
       "4118           11373            11373          379\n",
       "270            10029            10035          352"
      ]
     },
     "execution_count": 34,
     "metadata": {},
     "output_type": "execute_result"
    }
   ],
   "source": [
    "wed_route_zipcode = wed.groupby(['pickup_zipcode','dropoff_zipcode'],as_index=False).count()[['pickup_zipcode','dropoff_zipcode','pickup_datetime']]\n",
    "wed_route_zipcode.sort_values('pickup_datetime',ascending=False,inplace=True)\n",
    "wed_route_zipcode.rename(columns = {'pickup_datetime':'trip number'}, inplace=True)\n",
    "wed_route_zipcode.head()"
   ]
  },
  {
   "cell_type": "code",
   "execution_count": 35,
   "metadata": {
    "collapsed": false
   },
   "outputs": [
    {
     "data": {
      "text/html": [
       "<div>\n",
       "<table border=\"1\" class=\"dataframe\">\n",
       "  <thead>\n",
       "    <tr style=\"text-align: right;\">\n",
       "      <th></th>\n",
       "      <th>pickup_zipcode</th>\n",
       "      <th>dropoff_zipcode</th>\n",
       "      <th>trip number</th>\n",
       "    </tr>\n",
       "  </thead>\n",
       "  <tbody>\n",
       "    <tr>\n",
       "      <th>5159</th>\n",
       "      <td>11373</td>\n",
       "      <td>11368</td>\n",
       "      <td>601</td>\n",
       "    </tr>\n",
       "    <tr>\n",
       "      <th>5052</th>\n",
       "      <td>11372</td>\n",
       "      <td>11368</td>\n",
       "      <td>581</td>\n",
       "    </tr>\n",
       "    <tr>\n",
       "      <th>2722</th>\n",
       "      <td>11201</td>\n",
       "      <td>11201</td>\n",
       "      <td>543</td>\n",
       "    </tr>\n",
       "    <tr>\n",
       "      <th>3248</th>\n",
       "      <td>11211</td>\n",
       "      <td>11211</td>\n",
       "      <td>523</td>\n",
       "    </tr>\n",
       "    <tr>\n",
       "      <th>3259</th>\n",
       "      <td>11211</td>\n",
       "      <td>11222</td>\n",
       "      <td>517</td>\n",
       "    </tr>\n",
       "  </tbody>\n",
       "</table>\n",
       "</div>"
      ],
      "text/plain": [
       "      pickup_zipcode  dropoff_zipcode  trip number\n",
       "5159           11373            11368          601\n",
       "5052           11372            11368          581\n",
       "2722           11201            11201          543\n",
       "3248           11211            11211          523\n",
       "3259           11211            11222          517"
      ]
     },
     "execution_count": 35,
     "metadata": {},
     "output_type": "execute_result"
    }
   ],
   "source": [
    "sat_route_zipcode = sat.groupby(['pickup_zipcode','dropoff_zipcode'],as_index=False).count()[['pickup_zipcode','dropoff_zipcode','pickup_datetime']]\n",
    "sat_route_zipcode.sort_values('pickup_datetime',ascending=False,inplace=True)\n",
    "sat_route_zipcode.rename(columns = {'pickup_datetime':'trip number'}, inplace=True)\n",
    "sat_route_zipcode.head()"
   ]
  },
  {
   "cell_type": "code",
   "execution_count": 37,
   "metadata": {
    "collapsed": false
   },
   "outputs": [
    {
     "data": {
      "text/html": [
       "<div>\n",
       "<table border=\"1\" class=\"dataframe\">\n",
       "  <thead>\n",
       "    <tr style=\"text-align: right;\">\n",
       "      <th></th>\n",
       "      <th>pickup_zipcode</th>\n",
       "      <th>dropoff_zipcode</th>\n",
       "      <th>trip number</th>\n",
       "    </tr>\n",
       "  </thead>\n",
       "  <tbody>\n",
       "    <tr>\n",
       "      <th>4794</th>\n",
       "      <td>11373</td>\n",
       "      <td>11368</td>\n",
       "      <td>606</td>\n",
       "    </tr>\n",
       "    <tr>\n",
       "      <th>4699</th>\n",
       "      <td>11372</td>\n",
       "      <td>11368</td>\n",
       "      <td>446</td>\n",
       "    </tr>\n",
       "    <tr>\n",
       "      <th>2488</th>\n",
       "      <td>11201</td>\n",
       "      <td>11201</td>\n",
       "      <td>432</td>\n",
       "    </tr>\n",
       "    <tr>\n",
       "      <th>4799</th>\n",
       "      <td>11373</td>\n",
       "      <td>11373</td>\n",
       "      <td>429</td>\n",
       "    </tr>\n",
       "    <tr>\n",
       "      <th>2988</th>\n",
       "      <td>11211</td>\n",
       "      <td>11222</td>\n",
       "      <td>419</td>\n",
       "    </tr>\n",
       "  </tbody>\n",
       "</table>\n",
       "</div>"
      ],
      "text/plain": [
       "      pickup_zipcode  dropoff_zipcode  trip number\n",
       "4794           11373            11368          606\n",
       "4699           11372            11368          446\n",
       "2488           11201            11201          432\n",
       "4799           11373            11373          429\n",
       "2988           11211            11222          419"
      ]
     },
     "execution_count": 37,
     "metadata": {},
     "output_type": "execute_result"
    }
   ],
   "source": [
    "sun_route_zipcode = sun.groupby(['pickup_zipcode','dropoff_zipcode'],as_index=False).count()[['pickup_zipcode','dropoff_zipcode','pickup_datetime']]\n",
    "sun_route_zipcode.sort_values('pickup_datetime',ascending=False,inplace=True)\n",
    "sun_route_zipcode.rename(columns = {'pickup_datetime':'trip number'}, inplace=True)\n",
    "sun_route_zipcode.head()"
   ]
  },
  {
   "cell_type": "markdown",
   "metadata": {
    "collapsed": true
   },
   "source": [
    "In shared rides, passengers may share close pick up and drop off locations, or get picked up en route which may cause additional travel time. To best design shared ride, it is best to implement dynamic on demand Travelling salesman problem algorithm. Such algorithm is built with parameters such as wait time, travel delay time, number of fleets, as route optimization. \n",
    "\n",
    "Here I am simplying the problem to calculate the aggregating ride efficiency as discussed in the following section."
   ]
  },
  {
   "cell_type": "markdown",
   "metadata": {},
   "source": [
    "# Efficiency of aggregating rides in Brooklyn"
   ]
  },
  {
   "cell_type": "markdown",
   "metadata": {},
   "source": [
    "## County limited"
   ]
  },
  {
   "cell_type": "markdown",
   "metadata": {},
   "source": [
    "Here, I am focusing on trips starting from Brooklyn, finishing in Brooklyn or Manhattan. "
   ]
  },
  {
   "cell_type": "code",
   "execution_count": 38,
   "metadata": {
    "collapsed": false
   },
   "outputs": [
    {
     "data": {
      "text/html": [
       "<div>\n",
       "<table border=\"1\" class=\"dataframe\">\n",
       "  <thead>\n",
       "    <tr style=\"text-align: right;\">\n",
       "      <th></th>\n",
       "      <th>pickup_county</th>\n",
       "      <th>dropoff_county</th>\n",
       "      <th>trip number</th>\n",
       "    </tr>\n",
       "  </thead>\n",
       "  <tbody>\n",
       "    <tr>\n",
       "      <th>13</th>\n",
       "      <td>New York County</td>\n",
       "      <td>New York County</td>\n",
       "      <td>13353</td>\n",
       "    </tr>\n",
       "    <tr>\n",
       "      <th>7</th>\n",
       "      <td>Kings County</td>\n",
       "      <td>Kings County</td>\n",
       "      <td>13247</td>\n",
       "    </tr>\n",
       "    <tr>\n",
       "      <th>19</th>\n",
       "      <td>Queens County</td>\n",
       "      <td>Queens County</td>\n",
       "      <td>11209</td>\n",
       "    </tr>\n",
       "    <tr>\n",
       "      <th>8</th>\n",
       "      <td>Kings County</td>\n",
       "      <td>New York County</td>\n",
       "      <td>3272</td>\n",
       "    </tr>\n",
       "    <tr>\n",
       "      <th>1</th>\n",
       "      <td>Bronx County</td>\n",
       "      <td>Bronx County</td>\n",
       "      <td>2906</td>\n",
       "    </tr>\n",
       "    <tr>\n",
       "      <th>11</th>\n",
       "      <td>New York County</td>\n",
       "      <td>Bronx County</td>\n",
       "      <td>1383</td>\n",
       "    </tr>\n",
       "    <tr>\n",
       "      <th>18</th>\n",
       "      <td>Queens County</td>\n",
       "      <td>New York County</td>\n",
       "      <td>990</td>\n",
       "    </tr>\n",
       "    <tr>\n",
       "      <th>4</th>\n",
       "      <td>Bronx County</td>\n",
       "      <td>New York County</td>\n",
       "      <td>745</td>\n",
       "    </tr>\n",
       "    <tr>\n",
       "      <th>9</th>\n",
       "      <td>Kings County</td>\n",
       "      <td>Queens County</td>\n",
       "      <td>715</td>\n",
       "    </tr>\n",
       "    <tr>\n",
       "      <th>17</th>\n",
       "      <td>Queens County</td>\n",
       "      <td>Kings County</td>\n",
       "      <td>483</td>\n",
       "    </tr>\n",
       "    <tr>\n",
       "      <th>14</th>\n",
       "      <td>New York County</td>\n",
       "      <td>Queens County</td>\n",
       "      <td>337</td>\n",
       "    </tr>\n",
       "    <tr>\n",
       "      <th>12</th>\n",
       "      <td>New York County</td>\n",
       "      <td>Kings County</td>\n",
       "      <td>121</td>\n",
       "    </tr>\n",
       "    <tr>\n",
       "      <th>16</th>\n",
       "      <td>Queens County</td>\n",
       "      <td>Bronx County</td>\n",
       "      <td>56</td>\n",
       "    </tr>\n",
       "    <tr>\n",
       "      <th>5</th>\n",
       "      <td>Bronx County</td>\n",
       "      <td>Queens County</td>\n",
       "      <td>48</td>\n",
       "    </tr>\n",
       "    <tr>\n",
       "      <th>6</th>\n",
       "      <td>Kings County</td>\n",
       "      <td>Bronx County</td>\n",
       "      <td>21</td>\n",
       "    </tr>\n",
       "    <tr>\n",
       "      <th>2</th>\n",
       "      <td>Bronx County</td>\n",
       "      <td>Kings County</td>\n",
       "      <td>15</td>\n",
       "    </tr>\n",
       "    <tr>\n",
       "      <th>22</th>\n",
       "      <td>Richmond County</td>\n",
       "      <td>Richmond County</td>\n",
       "      <td>5</td>\n",
       "    </tr>\n",
       "    <tr>\n",
       "      <th>10</th>\n",
       "      <td>Kings County</td>\n",
       "      <td>Richmond County</td>\n",
       "      <td>2</td>\n",
       "    </tr>\n",
       "    <tr>\n",
       "      <th>15</th>\n",
       "      <td>Queens County</td>\n",
       "      <td>Bellerose Terrace</td>\n",
       "      <td>1</td>\n",
       "    </tr>\n",
       "    <tr>\n",
       "      <th>3</th>\n",
       "      <td>Bronx County</td>\n",
       "      <td>NYC</td>\n",
       "      <td>1</td>\n",
       "    </tr>\n",
       "    <tr>\n",
       "      <th>20</th>\n",
       "      <td>Queens County</td>\n",
       "      <td>Richmond County</td>\n",
       "      <td>1</td>\n",
       "    </tr>\n",
       "    <tr>\n",
       "      <th>21</th>\n",
       "      <td>Queens County</td>\n",
       "      <td>South Valley Stream</td>\n",
       "      <td>1</td>\n",
       "    </tr>\n",
       "    <tr>\n",
       "      <th>0</th>\n",
       "      <td>Alden Manor</td>\n",
       "      <td>Queens County</td>\n",
       "      <td>1</td>\n",
       "    </tr>\n",
       "  </tbody>\n",
       "</table>\n",
       "</div>"
      ],
      "text/plain": [
       "      pickup_county       dropoff_county  trip number\n",
       "13  New York County      New York County        13353\n",
       "7      Kings County         Kings County        13247\n",
       "19    Queens County        Queens County        11209\n",
       "8      Kings County      New York County         3272\n",
       "1      Bronx County         Bronx County         2906\n",
       "11  New York County         Bronx County         1383\n",
       "18    Queens County      New York County          990\n",
       "4      Bronx County      New York County          745\n",
       "9      Kings County        Queens County          715\n",
       "17    Queens County         Kings County          483\n",
       "14  New York County        Queens County          337\n",
       "12  New York County         Kings County          121\n",
       "16    Queens County         Bronx County           56\n",
       "5      Bronx County        Queens County           48\n",
       "6      Kings County         Bronx County           21\n",
       "2      Bronx County         Kings County           15\n",
       "22  Richmond County      Richmond County            5\n",
       "10     Kings County      Richmond County            2\n",
       "15    Queens County    Bellerose Terrace            1\n",
       "3      Bronx County                  NYC            1\n",
       "20    Queens County      Richmond County            1\n",
       "21    Queens County  South Valley Stream            1\n",
       "0       Alden Manor        Queens County            1"
      ]
     },
     "execution_count": 38,
     "metadata": {},
     "output_type": "execute_result"
    }
   ],
   "source": [
    "wed_route_county = wed.groupby(['pickup_county','dropoff_county'],as_index=False).count()[['pickup_county','dropoff_county','pickup_datetime']]\n",
    "wed_route_county.sort_values('pickup_datetime',ascending=False,inplace=True)\n",
    "wed_route_county.rename(columns = {'pickup_datetime':'trip number'}, inplace=True)\n",
    "wed_route_county"
   ]
  },
  {
   "cell_type": "code",
   "execution_count": 39,
   "metadata": {
    "collapsed": false
   },
   "outputs": [
    {
     "data": {
      "text/html": [
       "<div>\n",
       "<table border=\"1\" class=\"dataframe\">\n",
       "  <thead>\n",
       "    <tr style=\"text-align: right;\">\n",
       "      <th></th>\n",
       "      <th>pickup_county</th>\n",
       "      <th>dropoff_county</th>\n",
       "      <th>trip number</th>\n",
       "    </tr>\n",
       "  </thead>\n",
       "  <tbody>\n",
       "    <tr>\n",
       "      <th>5</th>\n",
       "      <td>Kings County</td>\n",
       "      <td>Kings County</td>\n",
       "      <td>22508</td>\n",
       "    </tr>\n",
       "    <tr>\n",
       "      <th>17</th>\n",
       "      <td>Queens County</td>\n",
       "      <td>Queens County</td>\n",
       "      <td>17050</td>\n",
       "    </tr>\n",
       "    <tr>\n",
       "      <th>11</th>\n",
       "      <td>New York County</td>\n",
       "      <td>New York County</td>\n",
       "      <td>14514</td>\n",
       "    </tr>\n",
       "    <tr>\n",
       "      <th>6</th>\n",
       "      <td>Kings County</td>\n",
       "      <td>New York County</td>\n",
       "      <td>5465</td>\n",
       "    </tr>\n",
       "    <tr>\n",
       "      <th>0</th>\n",
       "      <td>Bronx County</td>\n",
       "      <td>Bronx County</td>\n",
       "      <td>3370</td>\n",
       "    </tr>\n",
       "    <tr>\n",
       "      <th>9</th>\n",
       "      <td>New York County</td>\n",
       "      <td>Bronx County</td>\n",
       "      <td>2051</td>\n",
       "    </tr>\n",
       "    <tr>\n",
       "      <th>16</th>\n",
       "      <td>Queens County</td>\n",
       "      <td>New York County</td>\n",
       "      <td>1918</td>\n",
       "    </tr>\n",
       "    <tr>\n",
       "      <th>7</th>\n",
       "      <td>Kings County</td>\n",
       "      <td>Queens County</td>\n",
       "      <td>1395</td>\n",
       "    </tr>\n",
       "    <tr>\n",
       "      <th>2</th>\n",
       "      <td>Bronx County</td>\n",
       "      <td>New York County</td>\n",
       "      <td>1177</td>\n",
       "    </tr>\n",
       "    <tr>\n",
       "      <th>15</th>\n",
       "      <td>Queens County</td>\n",
       "      <td>Kings County</td>\n",
       "      <td>1012</td>\n",
       "    </tr>\n",
       "    <tr>\n",
       "      <th>12</th>\n",
       "      <td>New York County</td>\n",
       "      <td>Queens County</td>\n",
       "      <td>372</td>\n",
       "    </tr>\n",
       "    <tr>\n",
       "      <th>10</th>\n",
       "      <td>New York County</td>\n",
       "      <td>Kings County</td>\n",
       "      <td>177</td>\n",
       "    </tr>\n",
       "    <tr>\n",
       "      <th>14</th>\n",
       "      <td>Queens County</td>\n",
       "      <td>Bronx County</td>\n",
       "      <td>127</td>\n",
       "    </tr>\n",
       "    <tr>\n",
       "      <th>3</th>\n",
       "      <td>Bronx County</td>\n",
       "      <td>Queens County</td>\n",
       "      <td>80</td>\n",
       "    </tr>\n",
       "    <tr>\n",
       "      <th>4</th>\n",
       "      <td>Kings County</td>\n",
       "      <td>Bronx County</td>\n",
       "      <td>48</td>\n",
       "    </tr>\n",
       "    <tr>\n",
       "      <th>1</th>\n",
       "      <td>Bronx County</td>\n",
       "      <td>Kings County</td>\n",
       "      <td>32</td>\n",
       "    </tr>\n",
       "    <tr>\n",
       "      <th>8</th>\n",
       "      <td>Kings County</td>\n",
       "      <td>Richmond County</td>\n",
       "      <td>9</td>\n",
       "    </tr>\n",
       "    <tr>\n",
       "      <th>20</th>\n",
       "      <td>Richmond County</td>\n",
       "      <td>Richmond County</td>\n",
       "      <td>9</td>\n",
       "    </tr>\n",
       "    <tr>\n",
       "      <th>13</th>\n",
       "      <td>Queens County</td>\n",
       "      <td>Bellerose Terrace</td>\n",
       "      <td>2</td>\n",
       "    </tr>\n",
       "    <tr>\n",
       "      <th>18</th>\n",
       "      <td>Queens County</td>\n",
       "      <td>Richmond County</td>\n",
       "      <td>1</td>\n",
       "    </tr>\n",
       "    <tr>\n",
       "      <th>19</th>\n",
       "      <td>Queens County</td>\n",
       "      <td>South Valley Stream</td>\n",
       "      <td>1</td>\n",
       "    </tr>\n",
       "  </tbody>\n",
       "</table>\n",
       "</div>"
      ],
      "text/plain": [
       "      pickup_county       dropoff_county  trip number\n",
       "5      Kings County         Kings County        22508\n",
       "17    Queens County        Queens County        17050\n",
       "11  New York County      New York County        14514\n",
       "6      Kings County      New York County         5465\n",
       "0      Bronx County         Bronx County         3370\n",
       "9   New York County         Bronx County         2051\n",
       "16    Queens County      New York County         1918\n",
       "7      Kings County        Queens County         1395\n",
       "2      Bronx County      New York County         1177\n",
       "15    Queens County         Kings County         1012\n",
       "12  New York County        Queens County          372\n",
       "10  New York County         Kings County          177\n",
       "14    Queens County         Bronx County          127\n",
       "3      Bronx County        Queens County           80\n",
       "4      Kings County         Bronx County           48\n",
       "1      Bronx County         Kings County           32\n",
       "8      Kings County      Richmond County            9\n",
       "20  Richmond County      Richmond County            9\n",
       "13    Queens County    Bellerose Terrace            2\n",
       "18    Queens County      Richmond County            1\n",
       "19    Queens County  South Valley Stream            1"
      ]
     },
     "execution_count": 39,
     "metadata": {},
     "output_type": "execute_result"
    }
   ],
   "source": [
    "sat_route_county = sat.groupby(['pickup_county','dropoff_county'],as_index=False).count()[['pickup_county','dropoff_county','pickup_datetime']]\n",
    "sat_route_county.sort_values('pickup_datetime',ascending=False,inplace=True)\n",
    "sat_route_county.rename(columns = {'pickup_datetime':'trip number'}, inplace=True)\n",
    "sat_route_county"
   ]
  },
  {
   "cell_type": "code",
   "execution_count": 40,
   "metadata": {
    "collapsed": false
   },
   "outputs": [
    {
     "data": {
      "text/html": [
       "<div>\n",
       "<table border=\"1\" class=\"dataframe\">\n",
       "  <thead>\n",
       "    <tr style=\"text-align: right;\">\n",
       "      <th></th>\n",
       "      <th>pickup_county</th>\n",
       "      <th>dropoff_county</th>\n",
       "      <th>trip number</th>\n",
       "    </tr>\n",
       "  </thead>\n",
       "  <tbody>\n",
       "    <tr>\n",
       "      <th>7</th>\n",
       "      <td>Kings County</td>\n",
       "      <td>Kings County</td>\n",
       "      <td>19072</td>\n",
       "    </tr>\n",
       "    <tr>\n",
       "      <th>19</th>\n",
       "      <td>Queens County</td>\n",
       "      <td>Queens County</td>\n",
       "      <td>14975</td>\n",
       "    </tr>\n",
       "    <tr>\n",
       "      <th>13</th>\n",
       "      <td>New York County</td>\n",
       "      <td>New York County</td>\n",
       "      <td>11190</td>\n",
       "    </tr>\n",
       "    <tr>\n",
       "      <th>8</th>\n",
       "      <td>Kings County</td>\n",
       "      <td>New York County</td>\n",
       "      <td>4459</td>\n",
       "    </tr>\n",
       "    <tr>\n",
       "      <th>0</th>\n",
       "      <td>Bronx County</td>\n",
       "      <td>Bronx County</td>\n",
       "      <td>2555</td>\n",
       "    </tr>\n",
       "    <tr>\n",
       "      <th>11</th>\n",
       "      <td>New York County</td>\n",
       "      <td>Bronx County</td>\n",
       "      <td>1665</td>\n",
       "    </tr>\n",
       "    <tr>\n",
       "      <th>18</th>\n",
       "      <td>Queens County</td>\n",
       "      <td>New York County</td>\n",
       "      <td>1485</td>\n",
       "    </tr>\n",
       "    <tr>\n",
       "      <th>9</th>\n",
       "      <td>Kings County</td>\n",
       "      <td>Queens County</td>\n",
       "      <td>1445</td>\n",
       "    </tr>\n",
       "    <tr>\n",
       "      <th>3</th>\n",
       "      <td>Bronx County</td>\n",
       "      <td>New York County</td>\n",
       "      <td>850</td>\n",
       "    </tr>\n",
       "    <tr>\n",
       "      <th>17</th>\n",
       "      <td>Queens County</td>\n",
       "      <td>Kings County</td>\n",
       "      <td>850</td>\n",
       "    </tr>\n",
       "    <tr>\n",
       "      <th>14</th>\n",
       "      <td>New York County</td>\n",
       "      <td>Queens County</td>\n",
       "      <td>340</td>\n",
       "    </tr>\n",
       "    <tr>\n",
       "      <th>12</th>\n",
       "      <td>New York County</td>\n",
       "      <td>Kings County</td>\n",
       "      <td>149</td>\n",
       "    </tr>\n",
       "    <tr>\n",
       "      <th>16</th>\n",
       "      <td>Queens County</td>\n",
       "      <td>Bronx County</td>\n",
       "      <td>111</td>\n",
       "    </tr>\n",
       "    <tr>\n",
       "      <th>4</th>\n",
       "      <td>Bronx County</td>\n",
       "      <td>Queens County</td>\n",
       "      <td>51</td>\n",
       "    </tr>\n",
       "    <tr>\n",
       "      <th>6</th>\n",
       "      <td>Kings County</td>\n",
       "      <td>Bronx County</td>\n",
       "      <td>37</td>\n",
       "    </tr>\n",
       "    <tr>\n",
       "      <th>1</th>\n",
       "      <td>Bronx County</td>\n",
       "      <td>Kings County</td>\n",
       "      <td>19</td>\n",
       "    </tr>\n",
       "    <tr>\n",
       "      <th>10</th>\n",
       "      <td>Kings County</td>\n",
       "      <td>Richmond County</td>\n",
       "      <td>8</td>\n",
       "    </tr>\n",
       "    <tr>\n",
       "      <th>23</th>\n",
       "      <td>Richmond County</td>\n",
       "      <td>Richmond County</td>\n",
       "      <td>8</td>\n",
       "    </tr>\n",
       "    <tr>\n",
       "      <th>20</th>\n",
       "      <td>Queens County</td>\n",
       "      <td>Richmond County</td>\n",
       "      <td>2</td>\n",
       "    </tr>\n",
       "    <tr>\n",
       "      <th>15</th>\n",
       "      <td>New York County</td>\n",
       "      <td>Richmond County</td>\n",
       "      <td>1</td>\n",
       "    </tr>\n",
       "    <tr>\n",
       "      <th>5</th>\n",
       "      <td>Bronx County</td>\n",
       "      <td>Yonkers</td>\n",
       "      <td>1</td>\n",
       "    </tr>\n",
       "    <tr>\n",
       "      <th>2</th>\n",
       "      <td>Bronx County</td>\n",
       "      <td>Mount Vernon</td>\n",
       "      <td>1</td>\n",
       "    </tr>\n",
       "    <tr>\n",
       "      <th>21</th>\n",
       "      <td>Queens County</td>\n",
       "      <td>University Gardens</td>\n",
       "      <td>1</td>\n",
       "    </tr>\n",
       "    <tr>\n",
       "      <th>22</th>\n",
       "      <td>Richmond County</td>\n",
       "      <td>Kings County</td>\n",
       "      <td>1</td>\n",
       "    </tr>\n",
       "  </tbody>\n",
       "</table>\n",
       "</div>"
      ],
      "text/plain": [
       "      pickup_county      dropoff_county  trip number\n",
       "7      Kings County        Kings County        19072\n",
       "19    Queens County       Queens County        14975\n",
       "13  New York County     New York County        11190\n",
       "8      Kings County     New York County         4459\n",
       "0      Bronx County        Bronx County         2555\n",
       "11  New York County        Bronx County         1665\n",
       "18    Queens County     New York County         1485\n",
       "9      Kings County       Queens County         1445\n",
       "3      Bronx County     New York County          850\n",
       "17    Queens County        Kings County          850\n",
       "14  New York County       Queens County          340\n",
       "12  New York County        Kings County          149\n",
       "16    Queens County        Bronx County          111\n",
       "4      Bronx County       Queens County           51\n",
       "6      Kings County        Bronx County           37\n",
       "1      Bronx County        Kings County           19\n",
       "10     Kings County     Richmond County            8\n",
       "23  Richmond County     Richmond County            8\n",
       "20    Queens County     Richmond County            2\n",
       "15  New York County     Richmond County            1\n",
       "5      Bronx County             Yonkers            1\n",
       "2      Bronx County        Mount Vernon            1\n",
       "21    Queens County  University Gardens            1\n",
       "22  Richmond County        Kings County            1"
      ]
     },
     "execution_count": 40,
     "metadata": {},
     "output_type": "execute_result"
    }
   ],
   "source": [
    "sun_route_county = sun.groupby(['pickup_county','dropoff_county'],as_index=False).count()[['pickup_county','dropoff_county','pickup_datetime']]\n",
    "sun_route_county.sort_values('pickup_datetime',ascending=False,inplace=True)\n",
    "sun_route_county.rename(columns = {'pickup_datetime':'trip number'}, inplace=True)\n",
    "sun_route_county"
   ]
  },
  {
   "cell_type": "code",
   "execution_count": 41,
   "metadata": {
    "collapsed": false
   },
   "outputs": [],
   "source": [
    "wed_bk_bk = wed[(wed['pickup_county']=='Kings County') & (wed['dropoff_county'] == 'Kings County')]\n",
    "wed_bk_man = wed[(wed['pickup_county']=='Kings County') & (wed['dropoff_county'] == 'New York County')]\n",
    "sat_bk_bk = sat[(sat['pickup_county']=='Kings County') & (sat['dropoff_county'] == 'Kings County')]\n",
    "sat_bk_man = sat[(sat['pickup_county']=='Kings County') & (sat['dropoff_county'] == 'New York County')]\n",
    "sun_bk_bk = sun[(sun['pickup_county']=='Kings County') & (sun['dropoff_county'] == 'Kings County')]\n",
    "sun_bk_man = sun[(sun['pickup_county']=='Kings County') & (sun['dropoff_county'] == 'New York County')]"
   ]
  },
  {
   "cell_type": "markdown",
   "metadata": {},
   "source": [
    "## Most common routes in Brooklyn"
   ]
  },
  {
   "cell_type": "code",
   "execution_count": 42,
   "metadata": {
    "collapsed": false
   },
   "outputs": [
    {
     "data": {
      "text/html": [
       "<div>\n",
       "<table border=\"1\" class=\"dataframe\">\n",
       "  <thead>\n",
       "    <tr style=\"text-align: right;\">\n",
       "      <th></th>\n",
       "      <th>pickup_neighborhood</th>\n",
       "      <th>dropoff_neighborhood</th>\n",
       "      <th>trip number</th>\n",
       "    </tr>\n",
       "  </thead>\n",
       "  <tbody>\n",
       "    <tr>\n",
       "      <th>1451</th>\n",
       "      <td>Williamsburg</td>\n",
       "      <td>Williamsburg</td>\n",
       "      <td>725</td>\n",
       "    </tr>\n",
       "    <tr>\n",
       "      <th>1432</th>\n",
       "      <td>Williamsburg</td>\n",
       "      <td>Greenpoint</td>\n",
       "      <td>566</td>\n",
       "    </tr>\n",
       "    <tr>\n",
       "      <th>1053</th>\n",
       "      <td>Greenpoint</td>\n",
       "      <td>Williamsburg</td>\n",
       "      <td>326</td>\n",
       "    </tr>\n",
       "    <tr>\n",
       "      <th>1188</th>\n",
       "      <td>Park Slope</td>\n",
       "      <td>Park Slope</td>\n",
       "      <td>314</td>\n",
       "    </tr>\n",
       "    <tr>\n",
       "      <th>1410</th>\n",
       "      <td>Williamsburg</td>\n",
       "      <td>Bushwick</td>\n",
       "      <td>200</td>\n",
       "    </tr>\n",
       "  </tbody>\n",
       "</table>\n",
       "</div>"
      ],
      "text/plain": [
       "     pickup_neighborhood dropoff_neighborhood  trip number\n",
       "1451        Williamsburg         Williamsburg          725\n",
       "1432        Williamsburg           Greenpoint          566\n",
       "1053          Greenpoint         Williamsburg          326\n",
       "1188          Park Slope           Park Slope          314\n",
       "1410        Williamsburg             Bushwick          200"
      ]
     },
     "execution_count": 42,
     "metadata": {},
     "output_type": "execute_result"
    }
   ],
   "source": [
    "wed_route_neightborhood = wed_bk_bk.groupby(['pickup_neighborhood','dropoff_neighborhood'],as_index=False).count()[['pickup_neighborhood','dropoff_neighborhood','pickup_datetime']]\n",
    "wed_route_neightborhood.sort_values('pickup_datetime',ascending=False,inplace=True)\n",
    "wed_route_neightborhood.rename(columns = {'pickup_datetime':'trip number'}, inplace=True)\n",
    "wed_route_neightborhood.head()"
   ]
  },
  {
   "cell_type": "code",
   "execution_count": 43,
   "metadata": {
    "collapsed": false,
    "scrolled": true
   },
   "outputs": [
    {
     "data": {
      "text/html": [
       "<div>\n",
       "<table border=\"1\" class=\"dataframe\">\n",
       "  <thead>\n",
       "    <tr style=\"text-align: right;\">\n",
       "      <th></th>\n",
       "      <th>pickup_neighborhood</th>\n",
       "      <th>dropoff_neighborhood</th>\n",
       "      <th>trip number</th>\n",
       "    </tr>\n",
       "  </thead>\n",
       "  <tbody>\n",
       "    <tr>\n",
       "      <th>1739</th>\n",
       "      <td>Williamsburg</td>\n",
       "      <td>Williamsburg</td>\n",
       "      <td>1482</td>\n",
       "    </tr>\n",
       "    <tr>\n",
       "      <th>1710</th>\n",
       "      <td>Williamsburg</td>\n",
       "      <td>Greenpoint</td>\n",
       "      <td>940</td>\n",
       "    </tr>\n",
       "    <tr>\n",
       "      <th>1218</th>\n",
       "      <td>Greenpoint</td>\n",
       "      <td>Williamsburg</td>\n",
       "      <td>692</td>\n",
       "    </tr>\n",
       "    <tr>\n",
       "      <th>1685</th>\n",
       "      <td>Williamsburg</td>\n",
       "      <td>Bushwick</td>\n",
       "      <td>520</td>\n",
       "    </tr>\n",
       "    <tr>\n",
       "      <th>1673</th>\n",
       "      <td>Williamsburg</td>\n",
       "      <td>Bedford-Stuyvesant</td>\n",
       "      <td>351</td>\n",
       "    </tr>\n",
       "  </tbody>\n",
       "</table>\n",
       "</div>"
      ],
      "text/plain": [
       "     pickup_neighborhood dropoff_neighborhood  trip number\n",
       "1739        Williamsburg         Williamsburg         1482\n",
       "1710        Williamsburg           Greenpoint          940\n",
       "1218          Greenpoint         Williamsburg          692\n",
       "1685        Williamsburg             Bushwick          520\n",
       "1673        Williamsburg   Bedford-Stuyvesant          351"
      ]
     },
     "execution_count": 43,
     "metadata": {},
     "output_type": "execute_result"
    }
   ],
   "source": [
    "sat_route_neightborhood = sat_bk_bk.groupby(['pickup_neighborhood','dropoff_neighborhood'],as_index=False).count()[['pickup_neighborhood','dropoff_neighborhood','pickup_datetime']]\n",
    "sat_route_neightborhood.sort_values('pickup_datetime',ascending=False,inplace=True)\n",
    "sat_route_neightborhood.rename(columns = {'pickup_datetime':'trip number'}, inplace=True)\n",
    "sat_route_neightborhood.head()"
   ]
  },
  {
   "cell_type": "code",
   "execution_count": 44,
   "metadata": {
    "collapsed": false
   },
   "outputs": [
    {
     "data": {
      "text/html": [
       "<div>\n",
       "<table border=\"1\" class=\"dataframe\">\n",
       "  <thead>\n",
       "    <tr style=\"text-align: right;\">\n",
       "      <th></th>\n",
       "      <th>pickup_neighborhood</th>\n",
       "      <th>dropoff_neighborhood</th>\n",
       "      <th>trip number</th>\n",
       "    </tr>\n",
       "  </thead>\n",
       "  <tbody>\n",
       "    <tr>\n",
       "      <th>1663</th>\n",
       "      <td>Williamsburg</td>\n",
       "      <td>Williamsburg</td>\n",
       "      <td>1110</td>\n",
       "    </tr>\n",
       "    <tr>\n",
       "      <th>1633</th>\n",
       "      <td>Williamsburg</td>\n",
       "      <td>Greenpoint</td>\n",
       "      <td>755</td>\n",
       "    </tr>\n",
       "    <tr>\n",
       "      <th>1165</th>\n",
       "      <td>Greenpoint</td>\n",
       "      <td>Williamsburg</td>\n",
       "      <td>563</td>\n",
       "    </tr>\n",
       "    <tr>\n",
       "      <th>1608</th>\n",
       "      <td>Williamsburg</td>\n",
       "      <td>Bushwick</td>\n",
       "      <td>477</td>\n",
       "    </tr>\n",
       "    <tr>\n",
       "      <th>1597</th>\n",
       "      <td>Williamsburg</td>\n",
       "      <td>Bedford-Stuyvesant</td>\n",
       "      <td>303</td>\n",
       "    </tr>\n",
       "  </tbody>\n",
       "</table>\n",
       "</div>"
      ],
      "text/plain": [
       "     pickup_neighborhood dropoff_neighborhood  trip number\n",
       "1663        Williamsburg         Williamsburg         1110\n",
       "1633        Williamsburg           Greenpoint          755\n",
       "1165          Greenpoint         Williamsburg          563\n",
       "1608        Williamsburg             Bushwick          477\n",
       "1597        Williamsburg   Bedford-Stuyvesant          303"
      ]
     },
     "execution_count": 44,
     "metadata": {},
     "output_type": "execute_result"
    }
   ],
   "source": [
    "sun_route_neightborhood = sun_bk_bk.groupby(['pickup_neighborhood','dropoff_neighborhood'],as_index=False).count()[['pickup_neighborhood','dropoff_neighborhood','pickup_datetime']]\n",
    "sun_route_neightborhood.sort_values('pickup_datetime',ascending=False,inplace=True)\n",
    "sun_route_neightborhood.rename(columns = {'pickup_datetime':'trip number'}, inplace=True)\n",
    "sun_route_neightborhood.head()"
   ]
  },
  {
   "cell_type": "code",
   "execution_count": 46,
   "metadata": {
    "collapsed": false
   },
   "outputs": [
    {
     "data": {
      "text/plain": [
       "[<matplotlib.lines.Line2D at 0xe7bd438>,\n",
       " <matplotlib.lines.Line2D at 0xe7bd5c0>,\n",
       " <matplotlib.lines.Line2D at 0xe7bd6d8>]"
      ]
     },
     "execution_count": 46,
     "metadata": {},
     "output_type": "execute_result"
    },
    {
     "data": {
      "image/png": "[encoded data removed]",
      "text/plain": [
       "<matplotlib.figure.Figure at 0xa078550>"
      ]
     },
     "metadata": {},
     "output_type": "display_data"
    }
   ],
   "source": [
    "wed_h = hourly_trip(wed_bk_bk)\n",
    "sat_h = hourly_trip(sat_bk_bk)\n",
    "sun_h = hourly_trip(sun_bk_bk)\n",
    "hour_comp = wed_h.merge(sat_h,on='hour')\n",
    "hour_comp = hour_comp.merge(sun_h,on='hour')\n",
    "hour_comp.rename(columns = {'trip number_x':'wed trip number','trip number_y':'sat trip number','trip number':'sun trip number'}, inplace=True)\n",
    "plt.plot(hour_comp[['wed trip number','sat trip number','sun trip number']])"
   ]
  },
  {
   "cell_type": "code",
   "execution_count": 47,
   "metadata": {
    "collapsed": true
   },
   "outputs": [],
   "source": [
    "hour_comp.to_csv('green_hourly_trip_comp_bk_bk.csv')"
   ]
  },
  {
   "cell_type": "markdown",
   "metadata": {},
   "source": [
    "Most common routes are within Williamsburg and Greenpoint on both weekday and weekend. "
   ]
  },
  {
   "cell_type": "markdown",
   "metadata": {},
   "source": [
    "## Most common routes from Brooklyn to Manhattan"
   ]
  },
  {
   "cell_type": "code",
   "execution_count": 49,
   "metadata": {
    "collapsed": false
   },
   "outputs": [
    {
     "data": {
      "text/html": [
       "<div>\n",
       "<table border=\"1\" class=\"dataframe\">\n",
       "  <thead>\n",
       "    <tr style=\"text-align: right;\">\n",
       "      <th></th>\n",
       "      <th>pickup_neighborhood</th>\n",
       "      <th>dropoff_neighborhood</th>\n",
       "      <th>trip number</th>\n",
       "    </tr>\n",
       "  </thead>\n",
       "  <tbody>\n",
       "    <tr>\n",
       "      <th>589</th>\n",
       "      <td>Williamsburg</td>\n",
       "      <td>Lower East Side</td>\n",
       "      <td>72</td>\n",
       "    </tr>\n",
       "    <tr>\n",
       "      <th>342</th>\n",
       "      <td>DUMBO</td>\n",
       "      <td>Tribeca</td>\n",
       "      <td>61</td>\n",
       "    </tr>\n",
       "    <tr>\n",
       "      <th>575</th>\n",
       "      <td>Williamsburg</td>\n",
       "      <td>East Village</td>\n",
       "      <td>51</td>\n",
       "    </tr>\n",
       "    <tr>\n",
       "      <th>570</th>\n",
       "      <td>Williamsburg</td>\n",
       "      <td>Chelsea</td>\n",
       "      <td>45</td>\n",
       "    </tr>\n",
       "    <tr>\n",
       "      <th>578</th>\n",
       "      <td>Williamsburg</td>\n",
       "      <td>Greenwich Village</td>\n",
       "      <td>41</td>\n",
       "    </tr>\n",
       "  </tbody>\n",
       "</table>\n",
       "</div>"
      ],
      "text/plain": [
       "    pickup_neighborhood dropoff_neighborhood  trip number\n",
       "589        Williamsburg      Lower East Side           72\n",
       "342               DUMBO              Tribeca           61\n",
       "575        Williamsburg         East Village           51\n",
       "570        Williamsburg              Chelsea           45\n",
       "578        Williamsburg    Greenwich Village           41"
      ]
     },
     "execution_count": 49,
     "metadata": {},
     "output_type": "execute_result"
    }
   ],
   "source": [
    "wed_route_neightborhood = wed_bk_man.groupby(['pickup_neighborhood','dropoff_neighborhood'],as_index=False).count()[['pickup_neighborhood','dropoff_neighborhood','pickup_datetime']]\n",
    "wed_route_neightborhood.sort_values('pickup_datetime',ascending=False,inplace=True)\n",
    "wed_route_neightborhood.rename(columns = {'pickup_datetime':'trip number'}, inplace=True)\n",
    "wed_route_neightborhood.head()"
   ]
  },
  {
   "cell_type": "code",
   "execution_count": 50,
   "metadata": {
    "collapsed": false
   },
   "outputs": [
    {
     "data": {
      "text/html": [
       "<div>\n",
       "<table border=\"1\" class=\"dataframe\">\n",
       "  <thead>\n",
       "    <tr style=\"text-align: right;\">\n",
       "      <th></th>\n",
       "      <th>pickup_neighborhood</th>\n",
       "      <th>dropoff_neighborhood</th>\n",
       "      <th>trip number</th>\n",
       "    </tr>\n",
       "  </thead>\n",
       "  <tbody>\n",
       "    <tr>\n",
       "      <th>715</th>\n",
       "      <td>Williamsburg</td>\n",
       "      <td>Lower East Side</td>\n",
       "      <td>224</td>\n",
       "    </tr>\n",
       "    <tr>\n",
       "      <th>690</th>\n",
       "      <td>Williamsburg</td>\n",
       "      <td>Alphabet City</td>\n",
       "      <td>134</td>\n",
       "    </tr>\n",
       "    <tr>\n",
       "      <th>703</th>\n",
       "      <td>Williamsburg</td>\n",
       "      <td>Greenwich Village</td>\n",
       "      <td>114</td>\n",
       "    </tr>\n",
       "    <tr>\n",
       "      <th>699</th>\n",
       "      <td>Williamsburg</td>\n",
       "      <td>East Village</td>\n",
       "      <td>112</td>\n",
       "    </tr>\n",
       "    <tr>\n",
       "      <th>694</th>\n",
       "      <td>Williamsburg</td>\n",
       "      <td>Chelsea</td>\n",
       "      <td>97</td>\n",
       "    </tr>\n",
       "  </tbody>\n",
       "</table>\n",
       "</div>"
      ],
      "text/plain": [
       "    pickup_neighborhood dropoff_neighborhood  trip number\n",
       "715        Williamsburg      Lower East Side          224\n",
       "690        Williamsburg        Alphabet City          134\n",
       "703        Williamsburg    Greenwich Village          114\n",
       "699        Williamsburg         East Village          112\n",
       "694        Williamsburg              Chelsea           97"
      ]
     },
     "execution_count": 50,
     "metadata": {},
     "output_type": "execute_result"
    }
   ],
   "source": [
    "sat_route_neightborhood = sat_bk_man.groupby(['pickup_neighborhood','dropoff_neighborhood'],as_index=False).count()[['pickup_neighborhood','dropoff_neighborhood','pickup_datetime']]\n",
    "sat_route_neightborhood.sort_values('pickup_datetime',ascending=False,inplace=True)\n",
    "sat_route_neightborhood.rename(columns = {'pickup_datetime':'trip number'}, inplace=True)\n",
    "sat_route_neightborhood.head()"
   ]
  },
  {
   "cell_type": "code",
   "execution_count": 51,
   "metadata": {
    "collapsed": false
   },
   "outputs": [
    {
     "data": {
      "text/html": [
       "<div>\n",
       "<table border=\"1\" class=\"dataframe\">\n",
       "  <thead>\n",
       "    <tr style=\"text-align: right;\">\n",
       "      <th></th>\n",
       "      <th>pickup_neighborhood</th>\n",
       "      <th>dropoff_neighborhood</th>\n",
       "      <th>trip number</th>\n",
       "    </tr>\n",
       "  </thead>\n",
       "  <tbody>\n",
       "    <tr>\n",
       "      <th>738</th>\n",
       "      <td>Williamsburg</td>\n",
       "      <td>Lower East Side</td>\n",
       "      <td>162</td>\n",
       "    </tr>\n",
       "    <tr>\n",
       "      <th>711</th>\n",
       "      <td>Williamsburg</td>\n",
       "      <td>Alphabet City</td>\n",
       "      <td>100</td>\n",
       "    </tr>\n",
       "    <tr>\n",
       "      <th>721</th>\n",
       "      <td>Williamsburg</td>\n",
       "      <td>East Village</td>\n",
       "      <td>90</td>\n",
       "    </tr>\n",
       "    <tr>\n",
       "      <th>518</th>\n",
       "      <td>Greenpoint</td>\n",
       "      <td>Lower East Side</td>\n",
       "      <td>69</td>\n",
       "    </tr>\n",
       "    <tr>\n",
       "      <th>715</th>\n",
       "      <td>Williamsburg</td>\n",
       "      <td>Chelsea</td>\n",
       "      <td>69</td>\n",
       "    </tr>\n",
       "  </tbody>\n",
       "</table>\n",
       "</div>"
      ],
      "text/plain": [
       "    pickup_neighborhood dropoff_neighborhood  trip number\n",
       "738        Williamsburg      Lower East Side          162\n",
       "711        Williamsburg        Alphabet City          100\n",
       "721        Williamsburg         East Village           90\n",
       "518          Greenpoint      Lower East Side           69\n",
       "715        Williamsburg              Chelsea           69"
      ]
     },
     "execution_count": 51,
     "metadata": {},
     "output_type": "execute_result"
    }
   ],
   "source": [
    "sun_route_neightborhood = sun_bk_man.groupby(['pickup_neighborhood','dropoff_neighborhood'],as_index=False).count()[['pickup_neighborhood','dropoff_neighborhood','pickup_datetime']]\n",
    "sun_route_neightborhood.sort_values('pickup_datetime',ascending=False,inplace=True)\n",
    "sun_route_neightborhood.rename(columns = {'pickup_datetime':'trip number'}, inplace=True)\n",
    "sun_route_neightborhood.head()"
   ]
  },
  {
   "cell_type": "code",
   "execution_count": 52,
   "metadata": {
    "collapsed": false
   },
   "outputs": [
    {
     "data": {
      "text/plain": [
       "[<matplotlib.lines.Line2D at 0xe6f9550>,\n",
       " <matplotlib.lines.Line2D at 0xe6f96d8>,\n",
       " <matplotlib.lines.Line2D at 0xe6f97f0>]"
      ]
     },
     "execution_count": 52,
     "metadata": {},
     "output_type": "execute_result"
    },
    {
     "data": {
      "image/png": "[encoded data removed]",
      "text/plain": [
       "<matplotlib.figure.Figure at 0xdcc0f28>"
      ]
     },
     "metadata": {},
     "output_type": "display_data"
    }
   ],
   "source": [
    "wed_h = hourly_trip(wed_bk_man)\n",
    "sat_h = hourly_trip(sat_bk_man)\n",
    "sun_h = hourly_trip(sun_bk_man)\n",
    "hour_comp = wed_h.merge(sat_h,on='hour')\n",
    "hour_comp = hour_comp.merge(sun_h,on='hour')\n",
    "hour_comp.rename(columns = {'trip number_x':'wed trip number','trip number_y':'sat trip number','trip number':'sun trip number'}, inplace=True)\n",
    "plt.plot(hour_comp[['wed trip number','sat trip number','sun trip number']])"
   ]
  },
  {
   "cell_type": "code",
   "execution_count": 53,
   "metadata": {
    "collapsed": true
   },
   "outputs": [],
   "source": [
    "hour_comp.to_csv('green_hourly_trip_comp_bk_man.csv')"
   ]
  },
  {
   "cell_type": "markdown",
   "metadata": {},
   "source": [
    "Much more trips going from Brooklyn to Lower Manhattan on weekend, and mostly originated from Williamsburg. Most trips going to Manhattan are in the morning during rush hour on Weekday, and trips going to Manhattan on Weekend are in late night or overnight. Trips going to Manhattan on Sunday afternoon is lower than Saturday. "
   ]
  },
  {
   "cell_type": "markdown",
   "metadata": {},
   "source": [
    "## Define Aggregating ride efficiency"
   ]
  },
  {
   "cell_type": "markdown",
   "metadata": {},
   "source": [
    "To calcualte the efficiency, I simply the problem and define aggregating ride as more than 1 trip with the following conditions\n",
    "1) same pickup and dropoff zipcodes\n",
    "2) pickup demand time <= 5 min\n",
    "3) number of trip > 1\n",
    "4) number of passengers each trip is 6 full capacity\n",
    "\n",
    "I understand that in reality, efficiency is related to occupancy and availability of taxis (maximal 100%), average wait time, average delay time, for one aggregating trip (one car). Whether or not drivers decide to pick up the passengers en route require additional route optimizaiton. I do not include fare in the efficiency calculation. \n",
    "\n",
    "Efficiency in my model is defined as the percentage of possible aggregating rides over all rides from the same pickup zipcode. "
   ]
  },
  {
   "cell_type": "markdown",
   "metadata": {},
   "source": [
    "### Hourly efficiency by day"
   ]
  },
  {
   "cell_type": "code",
   "execution_count": 54,
   "metadata": {
    "collapsed": false
   },
   "outputs": [
    {
     "data": {
      "text/html": [
       "<div>\n",
       "<table border=\"1\" class=\"dataframe\">\n",
       "  <thead>\n",
       "    <tr style=\"text-align: right;\">\n",
       "      <th></th>\n",
       "      <th>pickup_zipcode</th>\n",
       "      <th>dropoff_zipcode</th>\n",
       "      <th>trip number</th>\n",
       "    </tr>\n",
       "  </thead>\n",
       "  <tbody>\n",
       "    <tr>\n",
       "      <th>1</th>\n",
       "      <td>11201</td>\n",
       "      <td>11201</td>\n",
       "      <td>542</td>\n",
       "    </tr>\n",
       "    <tr>\n",
       "      <th>254</th>\n",
       "      <td>11211</td>\n",
       "      <td>11211</td>\n",
       "      <td>523</td>\n",
       "    </tr>\n",
       "    <tr>\n",
       "      <th>265</th>\n",
       "      <td>11211</td>\n",
       "      <td>11222</td>\n",
       "      <td>517</td>\n",
       "    </tr>\n",
       "    <tr>\n",
       "      <th>937</th>\n",
       "      <td>11249</td>\n",
       "      <td>11211</td>\n",
       "      <td>415</td>\n",
       "    </tr>\n",
       "    <tr>\n",
       "      <th>540</th>\n",
       "      <td>11222</td>\n",
       "      <td>11211</td>\n",
       "      <td>353</td>\n",
       "    </tr>\n",
       "  </tbody>\n",
       "</table>\n",
       "</div>"
      ],
      "text/plain": [
       "     pickup_zipcode  dropoff_zipcode  trip number\n",
       "1             11201            11201          542\n",
       "254           11211            11211          523\n",
       "265           11211            11222          517\n",
       "937           11249            11211          415\n",
       "540           11222            11211          353"
      ]
     },
     "execution_count": 54,
     "metadata": {},
     "output_type": "execute_result"
    }
   ],
   "source": [
    "sat_bk_bk_aggr_zipcode = sat_bk_bk.groupby(['pickup_zipcode','dropoff_zipcode'],as_index=False).count()[['pickup_zipcode','dropoff_zipcode','pickup_datetime']]\n",
    "sat_bk_bk_aggr_zipcode.sort_values('pickup_datetime',ascending=False,inplace=True)\n",
    "sat_bk_bk_aggr_zipcode.rename(columns = {'pickup_datetime':'trip number'}, inplace=True)\n",
    "sat_bk_bk_aggr_zipcode.head()"
   ]
  },
  {
   "cell_type": "code",
   "execution_count": 55,
   "metadata": {
    "collapsed": false
   },
   "outputs": [
    {
     "data": {
      "text/html": [
       "<div>\n",
       "<table border=\"1\" class=\"dataframe\">\n",
       "  <thead>\n",
       "    <tr style=\"text-align: right;\">\n",
       "      <th></th>\n",
       "      <th>pickup_zipcode</th>\n",
       "      <th>trip number</th>\n",
       "    </tr>\n",
       "  </thead>\n",
       "  <tbody>\n",
       "    <tr>\n",
       "      <th>10</th>\n",
       "      <td>11211</td>\n",
       "      <td>2974</td>\n",
       "    </tr>\n",
       "    <tr>\n",
       "      <th>1</th>\n",
       "      <td>11201</td>\n",
       "      <td>2916</td>\n",
       "    </tr>\n",
       "    <tr>\n",
       "      <th>38</th>\n",
       "      <td>11249</td>\n",
       "      <td>2101</td>\n",
       "    </tr>\n",
       "    <tr>\n",
       "      <th>16</th>\n",
       "      <td>11217</td>\n",
       "      <td>1926</td>\n",
       "    </tr>\n",
       "    <tr>\n",
       "      <th>14</th>\n",
       "      <td>11215</td>\n",
       "      <td>1597</td>\n",
       "    </tr>\n",
       "  </tbody>\n",
       "</table>\n",
       "</div>"
      ],
      "text/plain": [
       "    pickup_zipcode  trip number\n",
       "10           11211         2974\n",
       "1            11201         2916\n",
       "38           11249         2101\n",
       "16           11217         1926\n",
       "14           11215         1597"
      ]
     },
     "execution_count": 55,
     "metadata": {},
     "output_type": "execute_result"
    }
   ],
   "source": [
    "sat_bk_bk_pickup_zipcode = sat_bk_bk.groupby('pickup_zipcode',as_index=False).count()[['pickup_zipcode','pickup_datetime']]\n",
    "sat_bk_bk_pickup_zipcode.sort_values('pickup_datetime',ascending=False,inplace=True)\n",
    "sat_bk_bk_pickup_zipcode.rename(columns = {'pickup_datetime':'trip number'}, inplace=True)\n",
    "sat_bk_bk_pickup_zipcode.head()"
   ]
  },
  {
   "cell_type": "code",
   "execution_count": 58,
   "metadata": {
    "collapsed": true
   },
   "outputs": [],
   "source": [
    "def perxmin(df,x):\n",
    "    # aggregate every x minutes\n",
    "    dfs = []\n",
    "    N = 60\n",
    "    i = 0\n",
    "    while i < N:\n",
    "        dfi = df[(df['minute'] >= i) & (df['minute'] <i+x)].copy()\n",
    "        dfs.append(dfi)\n",
    "        i = i + x\n",
    "    return dfs"
   ]
  },
  {
   "cell_type": "code",
   "execution_count": 59,
   "metadata": {
    "collapsed": false
   },
   "outputs": [],
   "source": [
    "def aggr_trip(df):\n",
    "    df_gp = df.groupby(['pickup_zipcode','dropoff_zipcode'],as_index=False)\n",
    "    df_trip_num = df_gp.count()[['pickup_zipcode','dropoff_zipcode','pickup_datetime']]\n",
    "    df_passenger_num = df_gp.sum()[['pickup_zipcode','dropoff_zipcode','passenger_count']]\n",
    "    df_eff = df_trip_num.merge(df_passenger_num)\n",
    "    df_eff.rename(columns = {'pickup_datetime':'trip number'}, inplace=True)\n",
    "    df_eff['aggr trip number'] = np.where(df_eff['trip number'] == 1,0,np.ceil(1.*df_eff['passenger_count']/6))\n",
    "    df_eff['non aggr trip number'] = np.where(df_eff['trip number'] == 1,1,0)\n",
    "    return df_eff"
   ]
  },
  {
   "cell_type": "code",
   "execution_count": 61,
   "metadata": {
    "collapsed": false
   },
   "outputs": [],
   "source": [
    "def aggr_eff(df):\n",
    "    df_eff = aggr_trip(df)\n",
    "    df2 = df_eff.groupby('pickup_zipcode',as_index=False).sum()[['pickup_zipcode','passenger_count','aggr trip number','non aggr trip number']]\n",
    "    df2['aggr eff'] = 1.*df2['aggr trip number'] / (df2['aggr trip number'] + df2['non aggr trip number'] ) \n",
    "    return df2"
   ]
  },
  {
   "cell_type": "code",
   "execution_count": 62,
   "metadata": {
    "collapsed": false
   },
   "outputs": [],
   "source": [
    "sat_bk_bk_eff = aggr_eff(sat_bk_bk)\n",
    "sat_bk_man_eff = aggr_eff(sat_bk_man)"
   ]
  },
  {
   "cell_type": "code",
   "execution_count": 63,
   "metadata": {
    "collapsed": true
   },
   "outputs": [],
   "source": [
    "def aggr_eff_all(df):\n",
    "    if df.empty:\n",
    "        return 0\n",
    "    else:\n",
    "        df2 = aggr_eff(df)\n",
    "        return df2['aggr eff'].mean()"
   ]
  },
  {
   "cell_type": "code",
   "execution_count": 64,
   "metadata": {
    "collapsed": false
   },
   "outputs": [
    {
     "data": {
      "text/plain": [
       "0.4587714428039899"
      ]
     },
     "execution_count": 64,
     "metadata": {},
     "output_type": "execute_result"
    }
   ],
   "source": [
    "aggr_eff_all(sat_bk_bk[sat_bk_bk['hour'] ==22])"
   ]
  },
  {
   "cell_type": "code",
   "execution_count": 65,
   "metadata": {
    "collapsed": true
   },
   "outputs": [],
   "source": [
    "def hourly_efficiency(df,hour):\n",
    "    df_hour = df[df['hour'] ==hour]\n",
    "    dfs = perxmin(df_hour,5) # set as 5 min, wait time window 5 min\n",
    "    hourly_eff = np.mean([aggr_eff_all(df) for df in dfs])\n",
    "    return hourly_eff"
   ]
  },
  {
   "cell_type": "code",
   "execution_count": 66,
   "metadata": {
    "collapsed": false
   },
   "outputs": [
    {
     "data": {
      "text/plain": [
       "0.18252506231992974"
      ]
     },
     "execution_count": 66,
     "metadata": {},
     "output_type": "execute_result"
    }
   ],
   "source": [
    "hourly_efficiency(sat_bk_bk,22)"
   ]
  },
  {
   "cell_type": "code",
   "execution_count": 67,
   "metadata": {
    "collapsed": true
   },
   "outputs": [],
   "source": [
    "hours = range(24)"
   ]
  },
  {
   "cell_type": "code",
   "execution_count": 69,
   "metadata": {
    "collapsed": true
   },
   "outputs": [],
   "source": [
    "def hourly_eff_day(df):\n",
    "    return [hourly_efficiency(df,h) for h in hours]"
   ]
  },
  {
   "cell_type": "code",
   "execution_count": 80,
   "metadata": {
    "collapsed": false
   },
   "outputs": [],
   "source": [
    "sat_bk_bk_eff = hourly_eff_day(sat_bk_bk)\n",
    "sat_bk_man_eff = hourly_eff_day(sat_bk_man)\n",
    "sun_bk_bk_eff = hourly_eff_day(sun_bk_bk)\n",
    "sun_bk_man_eff = hourly_eff_day(sun_bk_man)\n",
    "wed_bk_bk_eff = hourly_eff_day(wed_bk_bk)\n",
    "wed_bk_man_eff = hourly_eff_day(wed_bk_man)"
   ]
  },
  {
   "cell_type": "code",
   "execution_count": 81,
   "metadata": {
    "collapsed": true
   },
   "outputs": [],
   "source": [
    "cols = ['hour','wed_bk_bk','wed_bk_man','sat_bk_bk','sat_bk_man','sun_bk_bk','sun_bk_man']\n",
    "df_hourly_eff = pd.DataFrame(data=None, columns=cols)"
   ]
  },
  {
   "cell_type": "code",
   "execution_count": 82,
   "metadata": {
    "collapsed": false
   },
   "outputs": [
    {
     "data": {
      "text/html": [
       "<div>\n",
       "<table border=\"1\" class=\"dataframe\">\n",
       "  <thead>\n",
       "    <tr style=\"text-align: right;\">\n",
       "      <th></th>\n",
       "      <th>hour</th>\n",
       "      <th>wed_bk_bk</th>\n",
       "      <th>wed_bk_man</th>\n",
       "      <th>sat_bk_bk</th>\n",
       "      <th>sat_bk_man</th>\n",
       "      <th>sun_bk_bk</th>\n",
       "      <th>sun_bk_man</th>\n",
       "    </tr>\n",
       "  </thead>\n",
       "  <tbody>\n",
       "    <tr>\n",
       "      <th>0</th>\n",
       "      <td>0</td>\n",
       "      <td>0.078975</td>\n",
       "      <td>0.019444</td>\n",
       "      <td>0.183372</td>\n",
       "      <td>0.072727</td>\n",
       "      <td>0.167388</td>\n",
       "      <td>0.074911</td>\n",
       "    </tr>\n",
       "    <tr>\n",
       "      <th>1</th>\n",
       "      <td>1</td>\n",
       "      <td>0.052457</td>\n",
       "      <td>0.058449</td>\n",
       "      <td>0.192233</td>\n",
       "      <td>0.084009</td>\n",
       "      <td>0.168971</td>\n",
       "      <td>0.061709</td>\n",
       "    </tr>\n",
       "    <tr>\n",
       "      <th>2</th>\n",
       "      <td>2</td>\n",
       "      <td>0.060056</td>\n",
       "      <td>0.025000</td>\n",
       "      <td>0.134911</td>\n",
       "      <td>0.062200</td>\n",
       "      <td>0.170000</td>\n",
       "      <td>0.069742</td>\n",
       "    </tr>\n",
       "    <tr>\n",
       "      <th>3</th>\n",
       "      <td>3</td>\n",
       "      <td>0.114286</td>\n",
       "      <td>0.062500</td>\n",
       "      <td>0.149407</td>\n",
       "      <td>0.079682</td>\n",
       "      <td>0.158634</td>\n",
       "      <td>0.054126</td>\n",
       "    </tr>\n",
       "    <tr>\n",
       "      <th>4</th>\n",
       "      <td>4</td>\n",
       "      <td>0.013889</td>\n",
       "      <td>0.000000</td>\n",
       "      <td>0.071818</td>\n",
       "      <td>0.041804</td>\n",
       "      <td>0.134969</td>\n",
       "      <td>0.051620</td>\n",
       "    </tr>\n",
       "    <tr>\n",
       "      <th>5</th>\n",
       "      <td>5</td>\n",
       "      <td>0.000000</td>\n",
       "      <td>0.000000</td>\n",
       "      <td>0.057023</td>\n",
       "      <td>0.013889</td>\n",
       "      <td>0.051050</td>\n",
       "      <td>0.029101</td>\n",
       "    </tr>\n",
       "    <tr>\n",
       "      <th>6</th>\n",
       "      <td>6</td>\n",
       "      <td>0.068216</td>\n",
       "      <td>0.020999</td>\n",
       "      <td>0.031250</td>\n",
       "      <td>0.000000</td>\n",
       "      <td>0.025196</td>\n",
       "      <td>0.000000</td>\n",
       "    </tr>\n",
       "    <tr>\n",
       "      <th>7</th>\n",
       "      <td>7</td>\n",
       "      <td>0.082858</td>\n",
       "      <td>0.018927</td>\n",
       "      <td>0.027083</td>\n",
       "      <td>0.000000</td>\n",
       "      <td>0.018750</td>\n",
       "      <td>0.037500</td>\n",
       "    </tr>\n",
       "    <tr>\n",
       "      <th>8</th>\n",
       "      <td>8</td>\n",
       "      <td>0.122437</td>\n",
       "      <td>0.040591</td>\n",
       "      <td>0.028100</td>\n",
       "      <td>0.030556</td>\n",
       "      <td>0.031481</td>\n",
       "      <td>0.018849</td>\n",
       "    </tr>\n",
       "    <tr>\n",
       "      <th>9</th>\n",
       "      <td>9</td>\n",
       "      <td>0.138288</td>\n",
       "      <td>0.057077</td>\n",
       "      <td>0.059264</td>\n",
       "      <td>0.009425</td>\n",
       "      <td>0.053856</td>\n",
       "      <td>0.013889</td>\n",
       "    </tr>\n",
       "    <tr>\n",
       "      <th>10</th>\n",
       "      <td>10</td>\n",
       "      <td>0.129075</td>\n",
       "      <td>0.022332</td>\n",
       "      <td>0.082350</td>\n",
       "      <td>0.012731</td>\n",
       "      <td>0.078474</td>\n",
       "      <td>0.043361</td>\n",
       "    </tr>\n",
       "    <tr>\n",
       "      <th>11</th>\n",
       "      <td>11</td>\n",
       "      <td>0.078135</td>\n",
       "      <td>0.043254</td>\n",
       "      <td>0.113970</td>\n",
       "      <td>0.016066</td>\n",
       "      <td>0.097152</td>\n",
       "      <td>0.044329</td>\n",
       "    </tr>\n",
       "    <tr>\n",
       "      <th>12</th>\n",
       "      <td>12</td>\n",
       "      <td>0.070108</td>\n",
       "      <td>0.055556</td>\n",
       "      <td>0.096183</td>\n",
       "      <td>0.001323</td>\n",
       "      <td>0.114651</td>\n",
       "      <td>0.030589</td>\n",
       "    </tr>\n",
       "    <tr>\n",
       "      <th>13</th>\n",
       "      <td>13</td>\n",
       "      <td>0.093598</td>\n",
       "      <td>0.006944</td>\n",
       "      <td>0.101261</td>\n",
       "      <td>0.016776</td>\n",
       "      <td>0.129868</td>\n",
       "      <td>0.043335</td>\n",
       "    </tr>\n",
       "    <tr>\n",
       "      <th>14</th>\n",
       "      <td>14</td>\n",
       "      <td>0.094965</td>\n",
       "      <td>0.045188</td>\n",
       "      <td>0.133376</td>\n",
       "      <td>0.062731</td>\n",
       "      <td>0.104756</td>\n",
       "      <td>0.017883</td>\n",
       "    </tr>\n",
       "    <tr>\n",
       "      <th>15</th>\n",
       "      <td>15</td>\n",
       "      <td>0.116808</td>\n",
       "      <td>0.017187</td>\n",
       "      <td>0.144930</td>\n",
       "      <td>0.040443</td>\n",
       "      <td>0.128909</td>\n",
       "      <td>0.050981</td>\n",
       "    </tr>\n",
       "    <tr>\n",
       "      <th>16</th>\n",
       "      <td>16</td>\n",
       "      <td>0.121828</td>\n",
       "      <td>0.039683</td>\n",
       "      <td>0.145473</td>\n",
       "      <td>0.045960</td>\n",
       "      <td>0.120390</td>\n",
       "      <td>0.037368</td>\n",
       "    </tr>\n",
       "    <tr>\n",
       "      <th>17</th>\n",
       "      <td>17</td>\n",
       "      <td>0.166411</td>\n",
       "      <td>0.032595</td>\n",
       "      <td>0.154265</td>\n",
       "      <td>0.054456</td>\n",
       "      <td>0.128210</td>\n",
       "      <td>0.044894</td>\n",
       "    </tr>\n",
       "    <tr>\n",
       "      <th>18</th>\n",
       "      <td>18</td>\n",
       "      <td>0.173363</td>\n",
       "      <td>0.018611</td>\n",
       "      <td>0.147914</td>\n",
       "      <td>0.073716</td>\n",
       "      <td>0.132346</td>\n",
       "      <td>0.079219</td>\n",
       "    </tr>\n",
       "    <tr>\n",
       "      <th>19</th>\n",
       "      <td>19</td>\n",
       "      <td>0.182307</td>\n",
       "      <td>0.055185</td>\n",
       "      <td>0.179290</td>\n",
       "      <td>0.109922</td>\n",
       "      <td>0.155661</td>\n",
       "      <td>0.054740</td>\n",
       "    </tr>\n",
       "    <tr>\n",
       "      <th>20</th>\n",
       "      <td>20</td>\n",
       "      <td>0.196495</td>\n",
       "      <td>0.052791</td>\n",
       "      <td>0.192147</td>\n",
       "      <td>0.048762</td>\n",
       "      <td>0.137710</td>\n",
       "      <td>0.025570</td>\n",
       "    </tr>\n",
       "    <tr>\n",
       "      <th>21</th>\n",
       "      <td>21</td>\n",
       "      <td>0.163966</td>\n",
       "      <td>0.051235</td>\n",
       "      <td>0.164390</td>\n",
       "      <td>0.095525</td>\n",
       "      <td>0.126266</td>\n",
       "      <td>0.008838</td>\n",
       "    </tr>\n",
       "    <tr>\n",
       "      <th>22</th>\n",
       "      <td>22</td>\n",
       "      <td>0.151514</td>\n",
       "      <td>0.034436</td>\n",
       "      <td>0.182525</td>\n",
       "      <td>0.103759</td>\n",
       "      <td>0.111233</td>\n",
       "      <td>0.051543</td>\n",
       "    </tr>\n",
       "    <tr>\n",
       "      <th>23</th>\n",
       "      <td>23</td>\n",
       "      <td>0.130992</td>\n",
       "      <td>0.048307</td>\n",
       "      <td>0.193090</td>\n",
       "      <td>0.079354</td>\n",
       "      <td>0.138400</td>\n",
       "      <td>0.027638</td>\n",
       "    </tr>\n",
       "  </tbody>\n",
       "</table>\n",
       "</div>"
      ],
      "text/plain": [
       "    hour  wed_bk_bk  wed_bk_man  sat_bk_bk  sat_bk_man  sun_bk_bk  sun_bk_man\n",
       "0      0   0.078975    0.019444   0.183372    0.072727   0.167388    0.074911\n",
       "1      1   0.052457    0.058449   0.192233    0.084009   0.168971    0.061709\n",
       "2      2   0.060056    0.025000   0.134911    0.062200   0.170000    0.069742\n",
       "3      3   0.114286    0.062500   0.149407    0.079682   0.158634    0.054126\n",
       "4      4   0.013889    0.000000   0.071818    0.041804   0.134969    0.051620\n",
       "5      5   0.000000    0.000000   0.057023    0.013889   0.051050    0.029101\n",
       "6      6   0.068216    0.020999   0.031250    0.000000   0.025196    0.000000\n",
       "7      7   0.082858    0.018927   0.027083    0.000000   0.018750    0.037500\n",
       "8      8   0.122437    0.040591   0.028100    0.030556   0.031481    0.018849\n",
       "9      9   0.138288    0.057077   0.059264    0.009425   0.053856    0.013889\n",
       "10    10   0.129075    0.022332   0.082350    0.012731   0.078474    0.043361\n",
       "11    11   0.078135    0.043254   0.113970    0.016066   0.097152    0.044329\n",
       "12    12   0.070108    0.055556   0.096183    0.001323   0.114651    0.030589\n",
       "13    13   0.093598    0.006944   0.101261    0.016776   0.129868    0.043335\n",
       "14    14   0.094965    0.045188   0.133376    0.062731   0.104756    0.017883\n",
       "15    15   0.116808    0.017187   0.144930    0.040443   0.128909    0.050981\n",
       "16    16   0.121828    0.039683   0.145473    0.045960   0.120390    0.037368\n",
       "17    17   0.166411    0.032595   0.154265    0.054456   0.128210    0.044894\n",
       "18    18   0.173363    0.018611   0.147914    0.073716   0.132346    0.079219\n",
       "19    19   0.182307    0.055185   0.179290    0.109922   0.155661    0.054740\n",
       "20    20   0.196495    0.052791   0.192147    0.048762   0.137710    0.025570\n",
       "21    21   0.163966    0.051235   0.164390    0.095525   0.126266    0.008838\n",
       "22    22   0.151514    0.034436   0.182525    0.103759   0.111233    0.051543\n",
       "23    23   0.130992    0.048307   0.193090    0.079354   0.138400    0.027638"
      ]
     },
     "execution_count": 82,
     "metadata": {},
     "output_type": "execute_result"
    }
   ],
   "source": [
    "df_hourly_eff['hour'] = hours\n",
    "df_hourly_eff['wed_bk_bk'] = wed_bk_bk_eff\n",
    "df_hourly_eff['wed_bk_man'] = wed_bk_man_eff\n",
    "df_hourly_eff['sat_bk_bk'] = sat_bk_bk_eff\n",
    "df_hourly_eff['sat_bk_man'] = sat_bk_man_eff\n",
    "df_hourly_eff['sun_bk_bk'] = sun_bk_bk_eff\n",
    "df_hourly_eff['sun_bk_man'] = sun_bk_man_eff\n",
    "df_hourly_eff"
   ]
  },
  {
   "cell_type": "code",
   "execution_count": 83,
   "metadata": {
    "collapsed": false
   },
   "outputs": [],
   "source": [
    "df_hourly_eff.to_csv('hourly_eff_by_day.csv')"
   ]
  },
  {
   "cell_type": "markdown",
   "metadata": {},
   "source": [
    "### Hourly aggregating ride efficiency and hourly trip number"
   ]
  },
  {
   "cell_type": "code",
   "execution_count": 90,
   "metadata": {
    "collapsed": true
   },
   "outputs": [],
   "source": [
    "def get_corr(df,df_eff):\n",
    "    df_count = df.groupby('hour',as_index=False).count()['dayofweek']\n",
    "    dfs = pd.DataFrame(df_eff)\n",
    "    dfs['1'] = df_count\n",
    "    return dfs.corr()[0][1]"
   ]
  },
  {
   "cell_type": "code",
   "execution_count": 91,
   "metadata": {
    "collapsed": false
   },
   "outputs": [
    {
     "data": {
      "text/plain": [
       "0.93683812976643399"
      ]
     },
     "execution_count": 91,
     "metadata": {},
     "output_type": "execute_result"
    }
   ],
   "source": [
    "get_corr(sat_bk_bk,sat_bk_bk_eff)"
   ]
  },
  {
   "cell_type": "code",
   "execution_count": 92,
   "metadata": {
    "collapsed": false
   },
   "outputs": [
    {
     "data": {
      "text/plain": [
       "0.89590479561084435"
      ]
     },
     "execution_count": 92,
     "metadata": {},
     "output_type": "execute_result"
    }
   ],
   "source": [
    "get_corr(sun_bk_bk,sun_bk_bk_eff)"
   ]
  },
  {
   "cell_type": "code",
   "execution_count": 93,
   "metadata": {
    "collapsed": false
   },
   "outputs": [
    {
     "data": {
      "text/plain": [
       "0.84124352593548091"
      ]
     },
     "execution_count": 93,
     "metadata": {},
     "output_type": "execute_result"
    }
   ],
   "source": [
    "get_corr(wed_bk_bk,wed_bk_bk_eff)"
   ]
  },
  {
   "cell_type": "code",
   "execution_count": 94,
   "metadata": {
    "collapsed": false
   },
   "outputs": [
    {
     "data": {
      "text/plain": [
       "0.86063601845794979"
      ]
     },
     "execution_count": 94,
     "metadata": {},
     "output_type": "execute_result"
    }
   ],
   "source": [
    "get_corr(sat_bk_man,sat_bk_man_eff)"
   ]
  },
  {
   "cell_type": "code",
   "execution_count": 95,
   "metadata": {
    "collapsed": false
   },
   "outputs": [
    {
     "data": {
      "text/plain": [
       "0.70871676579439302"
      ]
     },
     "execution_count": 95,
     "metadata": {},
     "output_type": "execute_result"
    }
   ],
   "source": [
    "get_corr(sun_bk_man,sun_bk_man_eff)"
   ]
  },
  {
   "cell_type": "code",
   "execution_count": 96,
   "metadata": {
    "collapsed": false
   },
   "outputs": [
    {
     "data": {
      "text/plain": [
       "0.39872043483869035"
      ]
     },
     "execution_count": 96,
     "metadata": {},
     "output_type": "execute_result"
    }
   ],
   "source": [
    "get_corr(wed_bk_man,wed_bk_man_eff)"
   ]
  },
  {
   "cell_type": "raw",
   "metadata": {},
   "source": [
    "In this simplied version, hourly shared aggregating ride efficiency is linearly correlated with the total hourly trip number. This is understandable, since the more trips there are, the more likely there would be shared routes. I do not take into consideration the number of available taxis in this model, although in reality, not all trips can be shared even they are theoretically sharable. I also do not include wait time and delay time from detouring and share ride in this model, which requires additional rerouting calculation. \n",
    "\n",
    "With that being said, although the aggregating ride efficiency calculated here is oversimplied, it provides a good insight showing that many trips in Brooklyn are sharable, especially on Weekend night around Williamsburg."
   ]
  }
 ],
 "metadata": {
  "anaconda-cloud": {},
  "kernelspec": {
   "display_name": "Python [default]",
   "language": "python",
   "name": "python2"
  },
  "language_info": {
   "codemirror_mode": {
    "name": "ipython",
    "version": 2
   },
   "file_extension": ".py",
   "mimetype": "text/x-python",
   "name": "python",
   "nbconvert_exporter": "python",
   "pygments_lexer": "ipython2",
   "version": "2.7.12"
  }
 },
 "nbformat": 4,
 "nbformat_minor": 1
}
