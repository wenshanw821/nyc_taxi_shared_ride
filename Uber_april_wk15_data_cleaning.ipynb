{
 "cells": [
  {
   "cell_type": "markdown",
   "metadata": {},
   "source": [
    "# Load Data"
   ]
  },
  {
   "cell_type": "code",
   "execution_count": 1,
   "metadata": {
    "collapsed": true
   },
   "outputs": [],
   "source": [
    "import pandas as pd\n",
    "import numpy as np\n",
    "import os\n",
    "import datetime\n",
    "os.chdir(\"D:\\Dropbox\\Data-Analysis\\Via\\project\\data\")"
   ]
  },
  {
   "cell_type": "code",
   "execution_count": 2,
   "metadata": {
    "collapsed": false
   },
   "outputs": [
    {
     "data": {
      "text/html": [
       "<div>\n",
       "<table border=\"1\" class=\"dataframe\">\n",
       "  <thead>\n",
       "    <tr style=\"text-align: right;\">\n",
       "      <th></th>\n",
       "      <th>Dispatching_base_num</th>\n",
       "      <th>Pickup_date</th>\n",
       "      <th>Affiliated_base_num</th>\n",
       "      <th>locationID</th>\n",
       "    </tr>\n",
       "  </thead>\n",
       "  <tbody>\n",
       "    <tr>\n",
       "      <th>0</th>\n",
       "      <td>B02617</td>\n",
       "      <td>2015-05-17 09:47:00</td>\n",
       "      <td>B02617</td>\n",
       "      <td>141</td>\n",
       "    </tr>\n",
       "    <tr>\n",
       "      <th>1</th>\n",
       "      <td>B02617</td>\n",
       "      <td>2015-05-17 09:47:00</td>\n",
       "      <td>B02617</td>\n",
       "      <td>65</td>\n",
       "    </tr>\n",
       "    <tr>\n",
       "      <th>2</th>\n",
       "      <td>B02617</td>\n",
       "      <td>2015-05-17 09:47:00</td>\n",
       "      <td>B02617</td>\n",
       "      <td>100</td>\n",
       "    </tr>\n",
       "    <tr>\n",
       "      <th>3</th>\n",
       "      <td>B02617</td>\n",
       "      <td>2015-05-17 09:47:00</td>\n",
       "      <td>B02774</td>\n",
       "      <td>80</td>\n",
       "    </tr>\n",
       "    <tr>\n",
       "      <th>4</th>\n",
       "      <td>B02617</td>\n",
       "      <td>2015-05-17 09:47:00</td>\n",
       "      <td>B02617</td>\n",
       "      <td>90</td>\n",
       "    </tr>\n",
       "  </tbody>\n",
       "</table>\n",
       "</div>"
      ],
      "text/plain": [
       "  Dispatching_base_num          Pickup_date Affiliated_base_num  locationID\n",
       "0               B02617  2015-05-17 09:47:00              B02617         141\n",
       "1               B02617  2015-05-17 09:47:00              B02617          65\n",
       "2               B02617  2015-05-17 09:47:00              B02617         100\n",
       "3               B02617  2015-05-17 09:47:00              B02774          80\n",
       "4               B02617  2015-05-17 09:47:00              B02617          90"
      ]
     },
     "execution_count": 2,
     "metadata": {},
     "output_type": "execute_result"
    }
   ],
   "source": [
    "df = pd.read_csv('uber-raw-data-janjune-15.csv')\n",
    "df.head()"
   ]
  },
  {
   "cell_type": "code",
   "execution_count": 3,
   "metadata": {
    "collapsed": false
   },
   "outputs": [
    {
     "data": {
      "text/plain": [
       "14270479"
      ]
     },
     "execution_count": 3,
     "metadata": {},
     "output_type": "execute_result"
    }
   ],
   "source": [
    "len(df)"
   ]
  },
  {
   "cell_type": "code",
   "execution_count": 4,
   "metadata": {
    "collapsed": false
   },
   "outputs": [],
   "source": [
    "# focus on week 15 data only, 2015-04-06 to 2015-04-12\n",
    "df['Pickup_date'] = pd.to_datetime(df['Pickup_date'])"
   ]
  },
  {
   "cell_type": "code",
   "execution_count": 5,
   "metadata": {
    "collapsed": false
   },
   "outputs": [
    {
     "data": {
      "text/plain": [
       "Dispatching_base_num            object\n",
       "Pickup_date             datetime64[ns]\n",
       "Affiliated_base_num             object\n",
       "locationID                       int64\n",
       "dtype: object"
      ]
     },
     "execution_count": 5,
     "metadata": {},
     "output_type": "execute_result"
    }
   ],
   "source": [
    "df.dtypes"
   ]
  },
  {
   "cell_type": "code",
   "execution_count": 6,
   "metadata": {
    "collapsed": false
   },
   "outputs": [],
   "source": [
    "mask = (df['Pickup_date'] > '2015-04-05') & (df['Pickup_date'] <= '2015-04-12')\n",
    "df2 = df.loc[mask].copy()"
   ]
  },
  {
   "cell_type": "code",
   "execution_count": 7,
   "metadata": {
    "collapsed": false
   },
   "outputs": [
    {
     "data": {
      "text/plain": [
       "31"
      ]
     },
     "execution_count": 7,
     "metadata": {},
     "output_type": "execute_result"
    }
   ],
   "source": [
    "df2['Pickup_date'].iloc[0].minute"
   ]
  },
  {
   "cell_type": "code",
   "execution_count": 13,
   "metadata": {
    "collapsed": false
   },
   "outputs": [
    {
     "data": {
      "text/html": [
       "<div>\n",
       "<table border=\"1\" class=\"dataframe\">\n",
       "  <thead>\n",
       "    <tr style=\"text-align: right;\">\n",
       "      <th></th>\n",
       "      <th>Dispatching_base_num</th>\n",
       "      <th>Pickup_date</th>\n",
       "      <th>Affiliated_base_num</th>\n",
       "      <th>locationID</th>\n",
       "      <th>hour</th>\n",
       "      <th>dayofweek</th>\n",
       "    </tr>\n",
       "  </thead>\n",
       "  <tbody>\n",
       "    <tr>\n",
       "      <th>8863</th>\n",
       "      <td>B02764</td>\n",
       "      <td>2015-04-07 21:31:00</td>\n",
       "      <td>B02764</td>\n",
       "      <td>244</td>\n",
       "      <td>21</td>\n",
       "      <td>1</td>\n",
       "    </tr>\n",
       "    <tr>\n",
       "      <th>8864</th>\n",
       "      <td>B02764</td>\n",
       "      <td>2015-04-07 21:31:00</td>\n",
       "      <td>B00272</td>\n",
       "      <td>161</td>\n",
       "      <td>21</td>\n",
       "      <td>1</td>\n",
       "    </tr>\n",
       "    <tr>\n",
       "      <th>8865</th>\n",
       "      <td>B02764</td>\n",
       "      <td>2015-04-07 21:31:00</td>\n",
       "      <td>B02764</td>\n",
       "      <td>37</td>\n",
       "      <td>21</td>\n",
       "      <td>1</td>\n",
       "    </tr>\n",
       "    <tr>\n",
       "      <th>8866</th>\n",
       "      <td>B02764</td>\n",
       "      <td>2015-04-07 21:31:00</td>\n",
       "      <td>B02764</td>\n",
       "      <td>231</td>\n",
       "      <td>21</td>\n",
       "      <td>1</td>\n",
       "    </tr>\n",
       "    <tr>\n",
       "      <th>8867</th>\n",
       "      <td>B02764</td>\n",
       "      <td>2015-04-07 21:31:00</td>\n",
       "      <td>B02682</td>\n",
       "      <td>234</td>\n",
       "      <td>21</td>\n",
       "      <td>1</td>\n",
       "    </tr>\n",
       "  </tbody>\n",
       "</table>\n",
       "</div>"
      ],
      "text/plain": [
       "     Dispatching_base_num         Pickup_date Affiliated_base_num  locationID  \\\n",
       "8863               B02764 2015-04-07 21:31:00              B02764         244   \n",
       "8864               B02764 2015-04-07 21:31:00              B00272         161   \n",
       "8865               B02764 2015-04-07 21:31:00              B02764          37   \n",
       "8866               B02764 2015-04-07 21:31:00              B02764         231   \n",
       "8867               B02764 2015-04-07 21:31:00              B02682         234   \n",
       "\n",
       "      hour  dayofweek  \n",
       "8863    21          1  \n",
       "8864    21          1  \n",
       "8865    21          1  \n",
       "8866    21          1  \n",
       "8867    21          1  "
      ]
     },
     "execution_count": 13,
     "metadata": {},
     "output_type": "execute_result"
    }
   ],
   "source": [
    "df2['hour'] = df2['Pickup_date'].apply(lambda x: x.hour)\n",
    "df2['dayofweek'] = df2['Pickup_date'].apply(lambda x: x.dayofweek)\n",
    "df2.head()"
   ]
  },
  {
   "cell_type": "code",
   "execution_count": 14,
   "metadata": {
    "collapsed": false
   },
   "outputs": [
    {
     "data": {
      "text/html": [
       "<div>\n",
       "<table border=\"1\" class=\"dataframe\">\n",
       "  <thead>\n",
       "    <tr style=\"text-align: right;\">\n",
       "      <th></th>\n",
       "      <th>Dispatching_base_num</th>\n",
       "      <th>Pickup_date</th>\n",
       "      <th>Affiliated_base_num</th>\n",
       "      <th>locationID</th>\n",
       "      <th>hour</th>\n",
       "      <th>dayofweek</th>\n",
       "    </tr>\n",
       "  </thead>\n",
       "  <tbody>\n",
       "    <tr>\n",
       "      <th>8863</th>\n",
       "      <td>B02764</td>\n",
       "      <td>2015-04-07 21:31:00</td>\n",
       "      <td>B02764</td>\n",
       "      <td>244</td>\n",
       "      <td>21</td>\n",
       "      <td>2</td>\n",
       "    </tr>\n",
       "    <tr>\n",
       "      <th>8864</th>\n",
       "      <td>B02764</td>\n",
       "      <td>2015-04-07 21:31:00</td>\n",
       "      <td>B00272</td>\n",
       "      <td>161</td>\n",
       "      <td>21</td>\n",
       "      <td>2</td>\n",
       "    </tr>\n",
       "    <tr>\n",
       "      <th>8865</th>\n",
       "      <td>B02764</td>\n",
       "      <td>2015-04-07 21:31:00</td>\n",
       "      <td>B02764</td>\n",
       "      <td>37</td>\n",
       "      <td>21</td>\n",
       "      <td>2</td>\n",
       "    </tr>\n",
       "    <tr>\n",
       "      <th>8866</th>\n",
       "      <td>B02764</td>\n",
       "      <td>2015-04-07 21:31:00</td>\n",
       "      <td>B02764</td>\n",
       "      <td>231</td>\n",
       "      <td>21</td>\n",
       "      <td>2</td>\n",
       "    </tr>\n",
       "    <tr>\n",
       "      <th>8867</th>\n",
       "      <td>B02764</td>\n",
       "      <td>2015-04-07 21:31:00</td>\n",
       "      <td>B02682</td>\n",
       "      <td>234</td>\n",
       "      <td>21</td>\n",
       "      <td>2</td>\n",
       "    </tr>\n",
       "  </tbody>\n",
       "</table>\n",
       "</div>"
      ],
      "text/plain": [
       "     Dispatching_base_num         Pickup_date Affiliated_base_num  locationID  \\\n",
       "8863               B02764 2015-04-07 21:31:00              B02764         244   \n",
       "8864               B02764 2015-04-07 21:31:00              B00272         161   \n",
       "8865               B02764 2015-04-07 21:31:00              B02764          37   \n",
       "8866               B02764 2015-04-07 21:31:00              B02764         231   \n",
       "8867               B02764 2015-04-07 21:31:00              B02682         234   \n",
       "\n",
       "      hour  dayofweek  \n",
       "8863    21          2  \n",
       "8864    21          2  \n",
       "8865    21          2  \n",
       "8866    21          2  \n",
       "8867    21          2  "
      ]
     },
     "execution_count": 14,
     "metadata": {},
     "output_type": "execute_result"
    }
   ],
   "source": [
    "# Monday=0, Sunday=6 --> convert to Monday = 1, Sunday = 7\n",
    "df2['dayofweek']=df2['dayofweek']+1"
   ]
  },
  {
   "cell_type": "code",
   "execution_count": 15,
   "metadata": {
    "collapsed": false
   },
   "outputs": [
    {
     "data": {
      "text/html": [
       "<div>\n",
       "<table border=\"1\" class=\"dataframe\">\n",
       "  <thead>\n",
       "    <tr style=\"text-align: right;\">\n",
       "      <th></th>\n",
       "      <th>Dispatching_base_num</th>\n",
       "      <th>Pickup_date</th>\n",
       "      <th>Affiliated_base_num</th>\n",
       "      <th>locationID</th>\n",
       "      <th>hour</th>\n",
       "      <th>dayofweek</th>\n",
       "    </tr>\n",
       "  </thead>\n",
       "  <tbody>\n",
       "    <tr>\n",
       "      <th>13463090</th>\n",
       "      <td>B02765</td>\n",
       "      <td>2015-04-12</td>\n",
       "      <td>B02765</td>\n",
       "      <td>79</td>\n",
       "      <td>0</td>\n",
       "      <td>7</td>\n",
       "    </tr>\n",
       "    <tr>\n",
       "      <th>13463091</th>\n",
       "      <td>B02765</td>\n",
       "      <td>2015-04-12</td>\n",
       "      <td>B02765</td>\n",
       "      <td>114</td>\n",
       "      <td>0</td>\n",
       "      <td>7</td>\n",
       "    </tr>\n",
       "    <tr>\n",
       "      <th>13463092</th>\n",
       "      <td>B02765</td>\n",
       "      <td>2015-04-12</td>\n",
       "      <td>B02617</td>\n",
       "      <td>37</td>\n",
       "      <td>0</td>\n",
       "      <td>7</td>\n",
       "    </tr>\n",
       "    <tr>\n",
       "      <th>13463093</th>\n",
       "      <td>B02765</td>\n",
       "      <td>2015-04-12</td>\n",
       "      <td>B02765</td>\n",
       "      <td>61</td>\n",
       "      <td>0</td>\n",
       "      <td>7</td>\n",
       "    </tr>\n",
       "    <tr>\n",
       "      <th>13463094</th>\n",
       "      <td>B02765</td>\n",
       "      <td>2015-04-12</td>\n",
       "      <td>B02765</td>\n",
       "      <td>113</td>\n",
       "      <td>0</td>\n",
       "      <td>7</td>\n",
       "    </tr>\n",
       "  </tbody>\n",
       "</table>\n",
       "</div>"
      ],
      "text/plain": [
       "         Dispatching_base_num Pickup_date Affiliated_base_num  locationID  \\\n",
       "13463090               B02765  2015-04-12              B02765          79   \n",
       "13463091               B02765  2015-04-12              B02765         114   \n",
       "13463092               B02765  2015-04-12              B02617          37   \n",
       "13463093               B02765  2015-04-12              B02765          61   \n",
       "13463094               B02765  2015-04-12              B02765         113   \n",
       "\n",
       "          hour  dayofweek  \n",
       "13463090     0          7  \n",
       "13463091     0          7  \n",
       "13463092     0          7  \n",
       "13463093     0          7  \n",
       "13463094     0          7  "
      ]
     },
     "execution_count": 15,
     "metadata": {},
     "output_type": "execute_result"
    }
   ],
   "source": [
    "df2.tail()"
   ]
  },
  {
   "cell_type": "code",
   "execution_count": 16,
   "metadata": {
    "collapsed": false
   },
   "outputs": [
    {
     "data": {
      "text/plain": [
       "493560"
      ]
     },
     "execution_count": 16,
     "metadata": {},
     "output_type": "execute_result"
    }
   ],
   "source": [
    "len(df2)"
   ]
  },
  {
   "cell_type": "code",
   "execution_count": 17,
   "metadata": {
    "collapsed": false
   },
   "outputs": [
    {
     "data": {
      "text/html": [
       "<div>\n",
       "<table border=\"1\" class=\"dataframe\">\n",
       "  <thead>\n",
       "    <tr style=\"text-align: right;\">\n",
       "      <th></th>\n",
       "      <th>LocationID</th>\n",
       "      <th>Borough</th>\n",
       "      <th>Zone</th>\n",
       "    </tr>\n",
       "  </thead>\n",
       "  <tbody>\n",
       "    <tr>\n",
       "      <th>0</th>\n",
       "      <td>1</td>\n",
       "      <td>EWR</td>\n",
       "      <td>Newark Airport</td>\n",
       "    </tr>\n",
       "    <tr>\n",
       "      <th>1</th>\n",
       "      <td>2</td>\n",
       "      <td>Queens</td>\n",
       "      <td>Jamaica Bay</td>\n",
       "    </tr>\n",
       "    <tr>\n",
       "      <th>2</th>\n",
       "      <td>3</td>\n",
       "      <td>Bronx</td>\n",
       "      <td>Allerton/Pelham Gardens</td>\n",
       "    </tr>\n",
       "    <tr>\n",
       "      <th>3</th>\n",
       "      <td>4</td>\n",
       "      <td>Manhattan</td>\n",
       "      <td>Alphabet City</td>\n",
       "    </tr>\n",
       "    <tr>\n",
       "      <th>4</th>\n",
       "      <td>5</td>\n",
       "      <td>Staten Island</td>\n",
       "      <td>Arden Heights</td>\n",
       "    </tr>\n",
       "  </tbody>\n",
       "</table>\n",
       "</div>"
      ],
      "text/plain": [
       "   LocationID        Borough                     Zone\n",
       "0           1            EWR           Newark Airport\n",
       "1           2         Queens              Jamaica Bay\n",
       "2           3          Bronx  Allerton/Pelham Gardens\n",
       "3           4      Manhattan            Alphabet City\n",
       "4           5  Staten Island            Arden Heights"
      ]
     },
     "execution_count": 17,
     "metadata": {},
     "output_type": "execute_result"
    }
   ],
   "source": [
    "zone = pd.read_csv('taxi-zone-lookup.csv')\n",
    "zone.head()"
   ]
  },
  {
   "cell_type": "code",
   "execution_count": 18,
   "metadata": {
    "collapsed": false
   },
   "outputs": [
    {
     "data": {
      "text/html": [
       "<div>\n",
       "<table border=\"1\" class=\"dataframe\">\n",
       "  <thead>\n",
       "    <tr style=\"text-align: right;\">\n",
       "      <th></th>\n",
       "      <th>Dispatching_base_num</th>\n",
       "      <th>Pickup_date</th>\n",
       "      <th>Affiliated_base_num</th>\n",
       "      <th>locationID</th>\n",
       "      <th>hour</th>\n",
       "      <th>dayofweek</th>\n",
       "      <th>LocationID</th>\n",
       "      <th>Borough</th>\n",
       "      <th>Zone</th>\n",
       "    </tr>\n",
       "  </thead>\n",
       "  <tbody>\n",
       "    <tr>\n",
       "      <th>0</th>\n",
       "      <td>B02764</td>\n",
       "      <td>2015-04-07 21:31:00</td>\n",
       "      <td>B02764</td>\n",
       "      <td>244</td>\n",
       "      <td>21</td>\n",
       "      <td>2</td>\n",
       "      <td>244</td>\n",
       "      <td>Manhattan</td>\n",
       "      <td>Washington Heights South</td>\n",
       "    </tr>\n",
       "    <tr>\n",
       "      <th>1</th>\n",
       "      <td>B02764</td>\n",
       "      <td>2015-04-07 21:31:00</td>\n",
       "      <td>B00272</td>\n",
       "      <td>161</td>\n",
       "      <td>21</td>\n",
       "      <td>2</td>\n",
       "      <td>161</td>\n",
       "      <td>Manhattan</td>\n",
       "      <td>Midtown Center</td>\n",
       "    </tr>\n",
       "    <tr>\n",
       "      <th>2</th>\n",
       "      <td>B02764</td>\n",
       "      <td>2015-04-07 21:31:00</td>\n",
       "      <td>B02764</td>\n",
       "      <td>37</td>\n",
       "      <td>21</td>\n",
       "      <td>2</td>\n",
       "      <td>37</td>\n",
       "      <td>Brooklyn</td>\n",
       "      <td>Bushwick South</td>\n",
       "    </tr>\n",
       "    <tr>\n",
       "      <th>3</th>\n",
       "      <td>B02764</td>\n",
       "      <td>2015-04-07 21:31:00</td>\n",
       "      <td>B02764</td>\n",
       "      <td>231</td>\n",
       "      <td>21</td>\n",
       "      <td>2</td>\n",
       "      <td>231</td>\n",
       "      <td>Manhattan</td>\n",
       "      <td>TriBeCa/Civic Center</td>\n",
       "    </tr>\n",
       "    <tr>\n",
       "      <th>4</th>\n",
       "      <td>B02764</td>\n",
       "      <td>2015-04-07 21:31:00</td>\n",
       "      <td>B02682</td>\n",
       "      <td>234</td>\n",
       "      <td>21</td>\n",
       "      <td>2</td>\n",
       "      <td>234</td>\n",
       "      <td>Manhattan</td>\n",
       "      <td>Union Sq</td>\n",
       "    </tr>\n",
       "  </tbody>\n",
       "</table>\n",
       "</div>"
      ],
      "text/plain": [
       "  Dispatching_base_num         Pickup_date Affiliated_base_num  locationID  \\\n",
       "0               B02764 2015-04-07 21:31:00              B02764         244   \n",
       "1               B02764 2015-04-07 21:31:00              B00272         161   \n",
       "2               B02764 2015-04-07 21:31:00              B02764          37   \n",
       "3               B02764 2015-04-07 21:31:00              B02764         231   \n",
       "4               B02764 2015-04-07 21:31:00              B02682         234   \n",
       "\n",
       "   hour  dayofweek  LocationID    Borough                      Zone  \n",
       "0    21          2         244  Manhattan  Washington Heights South  \n",
       "1    21          2         161  Manhattan            Midtown Center  \n",
       "2    21          2          37   Brooklyn            Bushwick South  \n",
       "3    21          2         231  Manhattan      TriBeCa/Civic Center  \n",
       "4    21          2         234  Manhattan                  Union Sq  "
      ]
     },
     "execution_count": 18,
     "metadata": {},
     "output_type": "execute_result"
    }
   ],
   "source": [
    "df_zone = df2.merge(zone,left_on='locationID',right_on='LocationID',how='left')\n",
    "df_zone.head()"
   ]
  },
  {
   "cell_type": "code",
   "execution_count": 19,
   "metadata": {
    "collapsed": false
   },
   "outputs": [],
   "source": [
    "df_zone.drop(['Dispatching_base_num','Affiliated_base_num','locationID','LocationID'],axis=1,inplace=True)           "
   ]
  },
  {
   "cell_type": "code",
   "execution_count": 20,
   "metadata": {
    "collapsed": false
   },
   "outputs": [
    {
     "data": {
      "text/html": [
       "<div>\n",
       "<table border=\"1\" class=\"dataframe\">\n",
       "  <thead>\n",
       "    <tr style=\"text-align: right;\">\n",
       "      <th></th>\n",
       "      <th>Pickup_date</th>\n",
       "      <th>hour</th>\n",
       "      <th>dayofweek</th>\n",
       "      <th>Borough</th>\n",
       "      <th>Zone</th>\n",
       "    </tr>\n",
       "  </thead>\n",
       "  <tbody>\n",
       "    <tr>\n",
       "      <th>0</th>\n",
       "      <td>2015-04-07 21:31:00</td>\n",
       "      <td>21</td>\n",
       "      <td>2</td>\n",
       "      <td>Manhattan</td>\n",
       "      <td>Washington Heights South</td>\n",
       "    </tr>\n",
       "    <tr>\n",
       "      <th>1</th>\n",
       "      <td>2015-04-07 21:31:00</td>\n",
       "      <td>21</td>\n",
       "      <td>2</td>\n",
       "      <td>Manhattan</td>\n",
       "      <td>Midtown Center</td>\n",
       "    </tr>\n",
       "    <tr>\n",
       "      <th>2</th>\n",
       "      <td>2015-04-07 21:31:00</td>\n",
       "      <td>21</td>\n",
       "      <td>2</td>\n",
       "      <td>Brooklyn</td>\n",
       "      <td>Bushwick South</td>\n",
       "    </tr>\n",
       "    <tr>\n",
       "      <th>3</th>\n",
       "      <td>2015-04-07 21:31:00</td>\n",
       "      <td>21</td>\n",
       "      <td>2</td>\n",
       "      <td>Manhattan</td>\n",
       "      <td>TriBeCa/Civic Center</td>\n",
       "    </tr>\n",
       "    <tr>\n",
       "      <th>4</th>\n",
       "      <td>2015-04-07 21:31:00</td>\n",
       "      <td>21</td>\n",
       "      <td>2</td>\n",
       "      <td>Manhattan</td>\n",
       "      <td>Union Sq</td>\n",
       "    </tr>\n",
       "  </tbody>\n",
       "</table>\n",
       "</div>"
      ],
      "text/plain": [
       "          Pickup_date  hour  dayofweek    Borough                      Zone\n",
       "0 2015-04-07 21:31:00    21          2  Manhattan  Washington Heights South\n",
       "1 2015-04-07 21:31:00    21          2  Manhattan            Midtown Center\n",
       "2 2015-04-07 21:31:00    21          2   Brooklyn            Bushwick South\n",
       "3 2015-04-07 21:31:00    21          2  Manhattan      TriBeCa/Civic Center\n",
       "4 2015-04-07 21:31:00    21          2  Manhattan                  Union Sq"
      ]
     },
     "execution_count": 20,
     "metadata": {},
     "output_type": "execute_result"
    }
   ],
   "source": [
    "df_zone.head()   "
   ]
  },
  {
   "cell_type": "code",
   "execution_count": 21,
   "metadata": {
    "collapsed": true
   },
   "outputs": [],
   "source": [
    "df_zone.rename(columns = {'Pickup_date':'pickup_datetime','Borough':'pickup_county','Zone':'pickup_neighborhood'},inplace=True)"
   ]
  },
  {
   "cell_type": "code",
   "execution_count": 22,
   "metadata": {
    "collapsed": false
   },
   "outputs": [
    {
     "data": {
      "text/html": [
       "<div>\n",
       "<table border=\"1\" class=\"dataframe\">\n",
       "  <thead>\n",
       "    <tr style=\"text-align: right;\">\n",
       "      <th></th>\n",
       "      <th>pickup_datetime</th>\n",
       "      <th>hour</th>\n",
       "      <th>dayofweek</th>\n",
       "      <th>pickup_county</th>\n",
       "      <th>pickup_neighborhood</th>\n",
       "    </tr>\n",
       "  </thead>\n",
       "  <tbody>\n",
       "    <tr>\n",
       "      <th>0</th>\n",
       "      <td>2015-04-07 21:31:00</td>\n",
       "      <td>21</td>\n",
       "      <td>2</td>\n",
       "      <td>Manhattan</td>\n",
       "      <td>Washington Heights South</td>\n",
       "    </tr>\n",
       "    <tr>\n",
       "      <th>1</th>\n",
       "      <td>2015-04-07 21:31:00</td>\n",
       "      <td>21</td>\n",
       "      <td>2</td>\n",
       "      <td>Manhattan</td>\n",
       "      <td>Midtown Center</td>\n",
       "    </tr>\n",
       "    <tr>\n",
       "      <th>2</th>\n",
       "      <td>2015-04-07 21:31:00</td>\n",
       "      <td>21</td>\n",
       "      <td>2</td>\n",
       "      <td>Brooklyn</td>\n",
       "      <td>Bushwick South</td>\n",
       "    </tr>\n",
       "    <tr>\n",
       "      <th>3</th>\n",
       "      <td>2015-04-07 21:31:00</td>\n",
       "      <td>21</td>\n",
       "      <td>2</td>\n",
       "      <td>Manhattan</td>\n",
       "      <td>TriBeCa/Civic Center</td>\n",
       "    </tr>\n",
       "    <tr>\n",
       "      <th>4</th>\n",
       "      <td>2015-04-07 21:31:00</td>\n",
       "      <td>21</td>\n",
       "      <td>2</td>\n",
       "      <td>Manhattan</td>\n",
       "      <td>Union Sq</td>\n",
       "    </tr>\n",
       "  </tbody>\n",
       "</table>\n",
       "</div>"
      ],
      "text/plain": [
       "      pickup_datetime  hour  dayofweek pickup_county       pickup_neighborhood\n",
       "0 2015-04-07 21:31:00    21          2     Manhattan  Washington Heights South\n",
       "1 2015-04-07 21:31:00    21          2     Manhattan            Midtown Center\n",
       "2 2015-04-07 21:31:00    21          2      Brooklyn            Bushwick South\n",
       "3 2015-04-07 21:31:00    21          2     Manhattan      TriBeCa/Civic Center\n",
       "4 2015-04-07 21:31:00    21          2     Manhattan                  Union Sq"
      ]
     },
     "execution_count": 22,
     "metadata": {},
     "output_type": "execute_result"
    }
   ],
   "source": [
    "df_zone.head() "
   ]
  },
  {
   "cell_type": "code",
   "execution_count": 23,
   "metadata": {
    "collapsed": false
   },
   "outputs": [
    {
     "data": {
      "text/plain": [
       "pickup_datetime        0\n",
       "hour                   0\n",
       "dayofweek              0\n",
       "pickup_county          0\n",
       "pickup_neighborhood    0\n",
       "dtype: int64"
      ]
     },
     "execution_count": 23,
     "metadata": {},
     "output_type": "execute_result"
    }
   ],
   "source": [
    "df_zone.isnull().sum()"
   ]
  },
  {
   "cell_type": "code",
   "execution_count": 24,
   "metadata": {
    "collapsed": true
   },
   "outputs": [],
   "source": [
    "df_zone.to_csv('uber_wk15_zone.csv')"
   ]
  },
  {
   "cell_type": "code",
   "execution_count": 26,
   "metadata": {
    "collapsed": false
   },
   "outputs": [],
   "source": [
    "def export_dow(df,dow):\n",
    "    df2 = df[df['dayofweek']==dow].copy()\n",
    "    return df2"
   ]
  },
  {
   "cell_type": "code",
   "execution_count": 29,
   "metadata": {
    "collapsed": true
   },
   "outputs": [],
   "source": [
    "wed = export_dow(df_zone,3)\n",
    "wed.to_csv('uber_wk15_wed.csv')"
   ]
  },
  {
   "cell_type": "code",
   "execution_count": 30,
   "metadata": {
    "collapsed": false
   },
   "outputs": [],
   "source": [
    "sat = export_dow(df_zone,6)\n",
    "sat.to_csv('uber_wk15_sat.csv')"
   ]
  },
  {
   "cell_type": "code",
   "execution_count": 31,
   "metadata": {
    "collapsed": true
   },
   "outputs": [],
   "source": [
    "sun = export_dow(df_zone,7)\n",
    "sun.to_csv('uber_wk15_sun.csv')"
   ]
  },
  {
   "cell_type": "code",
   "execution_count": null,
   "metadata": {
    "collapsed": true
   },
   "outputs": [],
   "source": []
  }
 ],
 "metadata": {
  "anaconda-cloud": {},
  "kernelspec": {
   "display_name": "Python [default]",
   "language": "python",
   "name": "python2"
  },
  "language_info": {
   "codemirror_mode": {
    "name": "ipython",
    "version": 2
   },
   "file_extension": ".py",
   "mimetype": "text/x-python",
   "name": "python",
   "nbconvert_exporter": "python",
   "pygments_lexer": "ipython2",
   "version": "2.7.12"
  }
 },
 "nbformat": 4,
 "nbformat_minor": 1
}
